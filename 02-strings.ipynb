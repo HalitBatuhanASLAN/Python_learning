{
 "cells": [
  {
   "cell_type": "code",
   "execution_count": 1,
   "id": "9f6b35e8-4aa1-422f-b7e1-aebb86b20c89",
   "metadata": {},
   "outputs": [],
   "source": [
    "## bu işaret ile yorum satırı olur\n"
   ]
  },
  {
   "cell_type": "markdown",
   "id": "df6f899e-f42e-4786-bb65-f2d4324f2baf",
   "metadata": {},
   "source": [
    "##bu şekil 2 tane olursa başta markdown kısmında başlık olur"
   ]
  },
  {
   "cell_type": "code",
   "execution_count": 4,
   "id": "093466b4-33ef-457f-8285-1445656dab9b",
   "metadata": {},
   "outputs": [],
   "source": [
    "my_nums = \"0123456789\""
   ]
  },
  {
   "cell_type": "code",
   "execution_count": 6,
   "id": "6ff5173f-b04d-4249-8ff2-c33f5fa8b5aa",
   "metadata": {},
   "outputs": [
    {
     "data": {
      "text/plain": [
       "str"
      ]
     },
     "execution_count": 6,
     "metadata": {},
     "output_type": "execute_result"
    }
   ],
   "source": [
    "type(my_nums)"
   ]
  },
  {
   "cell_type": "code",
   "execution_count": 10,
   "id": "aa856a09-825c-41be-af64-c24d9b026cad",
   "metadata": {},
   "outputs": [
    {
     "data": {
      "text/plain": [
       "10"
      ]
     },
     "execution_count": 10,
     "metadata": {},
     "output_type": "execute_result"
    }
   ],
   "source": [
    "len(my_nums)"
   ]
  },
  {
   "cell_type": "code",
   "execution_count": 12,
   "id": "9b9e0dc3-b8d6-4d3d-a3f4-36b2b7b6e45e",
   "metadata": {},
   "outputs": [
    {
     "data": {
      "text/plain": [
       "'9'"
      ]
     },
     "execution_count": 12,
     "metadata": {},
     "output_type": "execute_result"
    }
   ],
   "source": [
    "my_nums[-1]"
   ]
  },
  {
   "cell_type": "code",
   "execution_count": 14,
   "id": "14e944bc-c3a5-41a7-b332-ac76f51ea01a",
   "metadata": {},
   "outputs": [
    {
     "ename": "SyntaxError",
     "evalue": "invalid syntax (2199957953.py, line 1)",
     "output_type": "error",
     "traceback": [
      "\u001b[1;36m  Cell \u001b[1;32mIn[14], line 1\u001b[1;36m\u001b[0m\n\u001b[1;33m    my_nums[]\u001b[0m\n\u001b[1;37m            ^\u001b[0m\n\u001b[1;31mSyntaxError\u001b[0m\u001b[1;31m:\u001b[0m invalid syntax\n"
     ]
    }
   ],
   "source": [
    "my_nums[]"
   ]
  },
  {
   "cell_type": "code",
   "execution_count": 18,
   "id": "04f5bad9-0362-4648-9ea2-4504a9695e85",
   "metadata": {},
   "outputs": [
    {
     "data": {
      "text/plain": [
       "'0123456789'"
      ]
     },
     "execution_count": 18,
     "metadata": {},
     "output_type": "execute_result"
    }
   ],
   "source": [
    "my_nums[:]\n",
    "##bu şekilde tüm string yazılır"
   ]
  },
  {
   "cell_type": "code",
   "execution_count": 20,
   "id": "47a686a1-b0cc-4796-bfeb-440574788f6e",
   "metadata": {},
   "outputs": [
    {
     "data": {
      "text/plain": [
       "'23456789'"
      ]
     },
     "execution_count": 20,
     "metadata": {},
     "output_type": "execute_result"
    }
   ],
   "source": [
    "my_nums[2:]\n",
    "##2.index dahil gerisini yazar"
   ]
  },
  {
   "cell_type": "code",
   "execution_count": 22,
   "id": "c8c0717b-d39c-4347-8edb-868beef6ace0",
   "metadata": {},
   "outputs": [
    {
     "data": {
      "text/plain": [
       "'012'"
      ]
     },
     "execution_count": 22,
     "metadata": {},
     "output_type": "execute_result"
    }
   ],
   "source": [
    "my_nums[:3]\n",
    "##3.indexe kadar yazar 3 dahil değil"
   ]
  },
  {
   "cell_type": "code",
   "execution_count": 24,
   "id": "676fe9d4-3973-4259-8cd9-d731a2b6d8c1",
   "metadata": {},
   "outputs": [
    {
     "data": {
      "text/plain": [
       "'0123456789'"
      ]
     },
     "execution_count": 24,
     "metadata": {},
     "output_type": "execute_result"
    }
   ],
   "source": [
    "my_nums[::]\n",
    "##tamamını yazar"
   ]
  },
  {
   "cell_type": "code",
   "execution_count": 26,
   "id": "e92b5e89-cf4e-4e0c-9324-be2c65d02b9d",
   "metadata": {},
   "outputs": [
    {
     "data": {
      "text/plain": [
       "'9876543210'"
      ]
     },
     "execution_count": 26,
     "metadata": {},
     "output_type": "execute_result"
    }
   ],
   "source": [
    "my_nums[::-1]\n",
    "##tersten yazar"
   ]
  },
  {
   "cell_type": "code",
   "execution_count": 28,
   "id": "876f5812-0ec5-43ca-a5c3-937123df8dfc",
   "metadata": {},
   "outputs": [
    {
     "data": {
      "text/plain": [
       "'234567'"
      ]
     },
     "execution_count": 28,
     "metadata": {},
     "output_type": "execute_result"
    }
   ],
   "source": [
    "my_nums[2:8]\n",
    "##2.index dahil 8dahil değil yazar"
   ]
  },
  {
   "cell_type": "code",
   "execution_count": 30,
   "id": "41a9c83c-96a5-46c7-9092-9aaa87566d53",
   "metadata": {},
   "outputs": [
    {
     "data": {
      "text/plain": [
       "'0369'"
      ]
     },
     "execution_count": 30,
     "metadata": {},
     "output_type": "execute_result"
    }
   ],
   "source": [
    "my_nums[::3]\n",
    "##3'er 3'er atlayarak yazar"
   ]
  },
  {
   "cell_type": "code",
   "execution_count": 32,
   "id": "259966fd-68d7-44f0-aacb-84339623e6d1",
   "metadata": {},
   "outputs": [
    {
     "data": {
      "text/plain": [
       "'13'"
      ]
     },
     "execution_count": 32,
     "metadata": {},
     "output_type": "execute_result"
    }
   ],
   "source": [
    "my_nums[1:5:2]\n",
    "##1 ile 5 arası ama 2 atlayaral"
   ]
  },
  {
   "cell_type": "code",
   "execution_count": 34,
   "id": "1b6ccdee-b602-4021-8606-a64838f6adaa",
   "metadata": {},
   "outputs": [
    {
     "data": {
      "text/plain": [
       "'6'"
      ]
     },
     "execution_count": 34,
     "metadata": {},
     "output_type": "execute_result"
    }
   ],
   "source": [
    "my_nums[-4]"
   ]
  },
  {
   "cell_type": "markdown",
   "id": "12e7fdef-d610-41ee-976e-4183e499ebe4",
   "metadata": {},
   "source": [
    "##some methods"
   ]
  },
  {
   "cell_type": "code",
   "execution_count": 37,
   "id": "1c06520b-fafa-4aea-a70c-170303457f00",
   "metadata": {},
   "outputs": [],
   "source": [
    "my_name = \"halit\""
   ]
  },
  {
   "cell_type": "code",
   "execution_count": 39,
   "id": "053df7e4-a1b6-491f-9262-ea6e2084a8a6",
   "metadata": {},
   "outputs": [
    {
     "data": {
      "text/plain": [
       "'Halit'"
      ]
     },
     "execution_count": 39,
     "metadata": {},
     "output_type": "execute_result"
    }
   ],
   "source": [
    "my_name.capitalize()\n",
    "##il harfi büyütür sadece ama değişiklik yapmaz sadece bu satırlık yapar"
   ]
  },
  {
   "cell_type": "code",
   "execution_count": 41,
   "id": "6e60090e-4b51-4d1f-833d-637878a2fe27",
   "metadata": {},
   "outputs": [
    {
     "data": {
      "text/plain": [
       "'HALIT'"
      ]
     },
     "execution_count": 41,
     "metadata": {},
     "output_type": "execute_result"
    }
   ],
   "source": [
    "my_name.upper()\n",
    "##sadece bu satırlık hepsini büütür"
   ]
  },
  {
   "cell_type": "code",
   "execution_count": 43,
   "id": "3214ad9a-4378-4507-9ce6-69f3bfd2ce5c",
   "metadata": {},
   "outputs": [
    {
     "data": {
      "text/plain": [
       "'halit'"
      ]
     },
     "execution_count": 43,
     "metadata": {},
     "output_type": "execute_result"
    }
   ],
   "source": [
    "my_name"
   ]
  },
  {
   "cell_type": "code",
   "execution_count": 45,
   "id": "8e5ac7d3-872b-4a41-8c68-4e79aa8f6895",
   "metadata": {},
   "outputs": [],
   "source": [
    "my_sec_name = \"BATUHAN\""
   ]
  },
  {
   "cell_type": "code",
   "execution_count": 47,
   "id": "d66408a2-946d-4757-af88-2cb4f27c7621",
   "metadata": {},
   "outputs": [
    {
     "data": {
      "text/plain": [
       "'batuhan'"
      ]
     },
     "execution_count": 47,
     "metadata": {},
     "output_type": "execute_result"
    }
   ],
   "source": [
    "my_sec_name.lower()"
   ]
  },
  {
   "cell_type": "code",
   "execution_count": 53,
   "id": "add4019f-8897-4fba-84c6-f3d10a3bfe40",
   "metadata": {},
   "outputs": [],
   "source": [
    "my_full_name = my_name + \" \" +my_sec_name"
   ]
  },
  {
   "cell_type": "code",
   "execution_count": 55,
   "id": "61b4c634-a435-4ffd-942a-413ae08c724f",
   "metadata": {},
   "outputs": [
    {
     "data": {
      "text/plain": [
       "'halit BATUHAN'"
      ]
     },
     "execution_count": 55,
     "metadata": {},
     "output_type": "execute_result"
    }
   ],
   "source": [
    "my_full_name"
   ]
  },
  {
   "cell_type": "code",
   "execution_count": 57,
   "id": "dcf3b0ca-835d-4fea-bd07-ab76454cad34",
   "metadata": {},
   "outputs": [],
   "source": [
    "splitted_name = my_full_name.split()\n",
    "##boşlukları baz alarak bölme işşlemi yapar ve onıu diziye atar"
   ]
  },
  {
   "cell_type": "code",
   "execution_count": 59,
   "id": "8b3c30bd-dba6-4c31-a7ac-efaac6e2049b",
   "metadata": {},
   "outputs": [
    {
     "data": {
      "text/plain": [
       "['halit', 'BATUHAN']"
      ]
     },
     "execution_count": 59,
     "metadata": {},
     "output_type": "execute_result"
    }
   ],
   "source": [
    "splitted_name"
   ]
  },
  {
   "cell_type": "code",
   "execution_count": 61,
   "id": "7eb56d83-a00e-478d-8242-01eb8cd646e2",
   "metadata": {},
   "outputs": [
    {
     "data": {
      "text/plain": [
       "'halit'"
      ]
     },
     "execution_count": 61,
     "metadata": {},
     "output_type": "execute_result"
    }
   ],
   "source": [
    "splitted_name[0]"
   ]
  },
  {
   "cell_type": "code",
   "execution_count": 63,
   "id": "f4ca67d2-b424-413c-bc19-45b440e608bc",
   "metadata": {},
   "outputs": [],
   "source": [
    "my_surname = \"ASLAN\""
   ]
  },
  {
   "cell_type": "code",
   "execution_count": 65,
   "id": "2cd7c248-1b8d-4cfa-869f-cdc8148e674b",
   "metadata": {},
   "outputs": [
    {
     "ename": "TypeError",
     "evalue": "can only concatenate list (not \"str\") to list",
     "output_type": "error",
     "traceback": [
      "\u001b[1;31m---------------------------------------------------------------------------\u001b[0m",
      "\u001b[1;31mTypeError\u001b[0m                                 Traceback (most recent call last)",
      "Cell \u001b[1;32mIn[65], line 1\u001b[0m\n\u001b[1;32m----> 1\u001b[0m splitted_name \u001b[38;5;241m+\u001b[39m my_surname\n",
      "\u001b[1;31mTypeError\u001b[0m: can only concatenate list (not \"str\") to list"
     ]
    }
   ],
   "source": [
    "splitted_name + my_surname"
   ]
  },
  {
   "cell_type": "code",
   "execution_count": 67,
   "id": "9d82aa20-095b-45c8-95af-198a115c1a36",
   "metadata": {},
   "outputs": [
    {
     "data": {
      "text/plain": [
       "'halitBATUHANASLAN'"
      ]
     },
     "execution_count": 67,
     "metadata": {},
     "output_type": "execute_result"
    }
   ],
   "source": [
    "my_name + my_sec_name + my_surname"
   ]
  },
  {
   "cell_type": "code",
   "execution_count": 69,
   "id": "96e26c04-07b8-43d0-9875-4e1e0389d0e9",
   "metadata": {},
   "outputs": [
    {
     "data": {
      "text/plain": [
       "'ASLANASLANASLANASLANASLANASLANASLANASLANASLANASLAN'"
      ]
     },
     "execution_count": 69,
     "metadata": {},
     "output_type": "execute_result"
    }
   ],
   "source": [
    "my_surname * 10\n",
    "##int ile çarpma işleminin sonucu int kadar yazdırır onu ama float ile çarpma yapmaz"
   ]
  },
  {
   "cell_type": "code",
   "execution_count": 71,
   "id": "aba3cfac-ec24-43d3-ae09-3a10b942839b",
   "metadata": {},
   "outputs": [
    {
     "data": {
      "text/plain": [
       "'ASLAN10'"
      ]
     },
     "execution_count": 71,
     "metadata": {},
     "output_type": "execute_result"
    }
   ],
   "source": [
    "my_surname + \"10\"\n",
    "##string ile toplar tek stringde yazar ama direkt int ile toplamaya izin vermez"
   ]
  },
  {
   "cell_type": "code",
   "execution_count": null,
   "id": "a7dea2c2-8141-4cee-8815-d6c604b1ea66",
   "metadata": {},
   "outputs": [],
   "source": []
  }
 ],
 "metadata": {
  "kernelspec": {
   "display_name": "Python 3 (ipykernel)",
   "language": "python",
   "name": "python3"
  },
  "language_info": {
   "codemirror_mode": {
    "name": "ipython",
    "version": 3
   },
   "file_extension": ".py",
   "mimetype": "text/x-python",
   "name": "python",
   "nbconvert_exporter": "python",
   "pygments_lexer": "ipython3",
   "version": "3.12.7"
  }
 },
 "nbformat": 4,
 "nbformat_minor": 5
}
