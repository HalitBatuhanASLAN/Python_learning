{
 "cells": [
  {
   "cell_type": "markdown",
   "id": "9e989254-ce30-4784-a360-43cb8f35f5d2",
   "metadata": {},
   "source": [
    "#lists"
   ]
  },
  {
   "cell_type": "code",
   "execution_count": 2,
   "id": "a3b5c1a3-6434-4e1f-8b52-2ad49f566e4f",
   "metadata": {},
   "outputs": [],
   "source": [
    "my_list = [1,2,3,\"abcdef\",\"a\",'arafard']\n",
    "#listelerde birden farklı tür olabilir"
   ]
  },
  {
   "cell_type": "code",
   "execution_count": 4,
   "id": "5e35c3cb-a861-4dab-98fd-191c806bcd37",
   "metadata": {},
   "outputs": [
    {
     "data": {
      "text/plain": [
       "[1, 2, 3, 'abcdef', 'a', 'arafard']"
      ]
     },
     "execution_count": 4,
     "metadata": {},
     "output_type": "execute_result"
    }
   ],
   "source": [
    "my_list"
   ]
  },
  {
   "cell_type": "code",
   "execution_count": 6,
   "id": "e3e61411-b1b1-4e14-a26d-fc63125e58df",
   "metadata": {},
   "outputs": [],
   "source": [
    "my_list.append(5)\n",
    "#sadece ekleme yaptı listeyi düzenledi ama output vermedi"
   ]
  },
  {
   "cell_type": "code",
   "execution_count": 8,
   "id": "bc645d7d-46a4-4668-9ffc-ffd452bdb705",
   "metadata": {},
   "outputs": [
    {
     "data": {
      "text/plain": [
       "[1, 2, 3, 'abcdef', 'a', 'arafard', 5]"
      ]
     },
     "execution_count": 8,
     "metadata": {},
     "output_type": "execute_result"
    }
   ],
   "source": [
    "my_list"
   ]
  },
  {
   "cell_type": "code",
   "execution_count": 10,
   "id": "1365fbda-baca-4cf0-a8ee-1deb4528405f",
   "metadata": {},
   "outputs": [
    {
     "data": {
      "text/plain": [
       "'a'"
      ]
     },
     "execution_count": 10,
     "metadata": {},
     "output_type": "execute_result"
    }
   ],
   "source": [
    "my_list[4]"
   ]
  },
  {
   "cell_type": "code",
   "execution_count": 12,
   "id": "b2b7dd66-1ad4-452c-bdb9-c5d07f584e07",
   "metadata": {},
   "outputs": [
    {
     "data": {
      "text/plain": [
       "5"
      ]
     },
     "execution_count": 12,
     "metadata": {},
     "output_type": "execute_result"
    }
   ],
   "source": [
    "my_list[-1]"
   ]
  },
  {
   "cell_type": "code",
   "execution_count": 16,
   "id": "7867e3ac-5ef1-4a26-acff-c6f6692462aa",
   "metadata": {},
   "outputs": [],
   "source": [
    "my_list.reverse()"
   ]
  },
  {
   "cell_type": "code",
   "execution_count": 18,
   "id": "c1cbb964-5066-4523-a135-dae1d6ca510e",
   "metadata": {},
   "outputs": [
    {
     "data": {
      "text/plain": [
       "[5, 'arafard', 'a', 'abcdef', 3, 2, 1]"
      ]
     },
     "execution_count": 18,
     "metadata": {},
     "output_type": "execute_result"
    }
   ],
   "source": [
    "my_list"
   ]
  },
  {
   "cell_type": "code",
   "execution_count": 22,
   "id": "bfafeb43-f63b-4a46-b3af-aa429beb8bb8",
   "metadata": {},
   "outputs": [
    {
     "data": {
      "text/plain": [
       "2"
      ]
     },
     "execution_count": 22,
     "metadata": {},
     "output_type": "execute_result"
    }
   ],
   "source": [
    "my_list.pop()\n",
    "#son elemanı çıakrtır ve çıkarttığını yazar(2defa yaptım ondan dolayı 2 yazıyor outputta)"
   ]
  },
  {
   "cell_type": "code",
   "execution_count": 24,
   "id": "3801163f-def5-4bfd-9c7d-c3e46d4766f5",
   "metadata": {},
   "outputs": [
    {
     "data": {
      "text/plain": [
       "[5, 'arafard', 'a', 'abcdef', 3]"
      ]
     },
     "execution_count": 24,
     "metadata": {},
     "output_type": "execute_result"
    }
   ],
   "source": [
    "my_list"
   ]
  },
  {
   "cell_type": "code",
   "execution_count": 26,
   "id": "0bbcf6a0-7240-4f30-a46f-273568695c8d",
   "metadata": {},
   "outputs": [
    {
     "ename": "TypeError",
     "evalue": "'<' not supported between instances of 'str' and 'int'",
     "output_type": "error",
     "traceback": [
      "\u001b[1;31m---------------------------------------------------------------------------\u001b[0m",
      "\u001b[1;31mTypeError\u001b[0m                                 Traceback (most recent call last)",
      "Cell \u001b[1;32mIn[26], line 1\u001b[0m\n\u001b[1;32m----> 1\u001b[0m my_list\u001b[38;5;241m.\u001b[39msort()\n",
      "\u001b[1;31mTypeError\u001b[0m: '<' not supported between instances of 'str' and 'int'"
     ]
    }
   ],
   "source": [
    "my_list.sort()\n",
    "#farklı tipler olduğu için sıralamaya izin vermiyor"
   ]
  },
  {
   "cell_type": "code",
   "execution_count": 30,
   "id": "85bb172f-372b-435b-85bd-5ae0cffc2c19",
   "metadata": {},
   "outputs": [],
   "source": [
    "my_list2 = [1,2,9,8,\"abc\"]\n",
    "my_mixed_list = my_list + my_list"
   ]
  },
  {
   "cell_type": "code",
   "execution_count": 32,
   "id": "e32bbc0b-c86b-42b1-8973-1ef2501ef957",
   "metadata": {},
   "outputs": [
    {
     "data": {
      "text/plain": [
       "[5, 'arafard', 'a', 'abcdef', 3, 5, 'arafard', 'a', 'abcdef', 3]"
      ]
     },
     "execution_count": 32,
     "metadata": {},
     "output_type": "execute_result"
    }
   ],
   "source": [
    "my_mixed_list"
   ]
  },
  {
   "cell_type": "code",
   "execution_count": 34,
   "id": "256bf26e-5e25-4b26-be79-ab74c3e656b6",
   "metadata": {},
   "outputs": [],
   "source": [
    "my_mixed_list += my_list2"
   ]
  },
  {
   "cell_type": "code",
   "execution_count": 36,
   "id": "a4e8181d-c9a8-4360-a6d6-35418379b32f",
   "metadata": {},
   "outputs": [
    {
     "data": {
      "text/plain": [
       "[5,\n",
       " 'arafard',\n",
       " 'a',\n",
       " 'abcdef',\n",
       " 3,\n",
       " 5,\n",
       " 'arafard',\n",
       " 'a',\n",
       " 'abcdef',\n",
       " 3,\n",
       " 1,\n",
       " 2,\n",
       " 9,\n",
       " 8,\n",
       " 'abc']"
      ]
     },
     "execution_count": 36,
     "metadata": {},
     "output_type": "execute_result"
    }
   ],
   "source": [
    "my_mixed_list"
   ]
  },
  {
   "cell_type": "code",
   "execution_count": 38,
   "id": "810874d9-1ebd-4c21-bded-c83c14fb16be",
   "metadata": {},
   "outputs": [],
   "source": [
    "my_new_list = [1,2,[\"abc\",4,5],1]"
   ]
  },
  {
   "cell_type": "code",
   "execution_count": 40,
   "id": "f5af58c0-f5ee-44da-b1cc-db1a11c6ba6e",
   "metadata": {},
   "outputs": [
    {
     "data": {
      "text/plain": [
       "['abc', 4, 5]"
      ]
     },
     "execution_count": 40,
     "metadata": {},
     "output_type": "execute_result"
    }
   ],
   "source": [
    "my_new_list[2]"
   ]
  },
  {
   "cell_type": "code",
   "execution_count": 42,
   "id": "e1550def-76ce-443a-838e-854cc3edf1b3",
   "metadata": {},
   "outputs": [
    {
     "data": {
      "text/plain": [
       "4"
      ]
     },
     "execution_count": 42,
     "metadata": {},
     "output_type": "execute_result"
    }
   ],
   "source": [
    "my_new_list[2][1]"
   ]
  },
  {
   "cell_type": "code",
   "execution_count": 44,
   "id": "24f2cc48-b47f-4464-9de4-3d9f8614e726",
   "metadata": {},
   "outputs": [
    {
     "data": {
      "text/plain": [
       "[2, ['abc', 4, 5], 1]"
      ]
     },
     "execution_count": 44,
     "metadata": {},
     "output_type": "execute_result"
    }
   ],
   "source": [
    "my_new_list[1:4]"
   ]
  },
  {
   "cell_type": "code",
   "execution_count": 46,
   "id": "350ac480-d11f-4a44-ba49-9e824632e044",
   "metadata": {},
   "outputs": [
    {
     "data": {
      "text/plain": [
       "[2, ['abc', 4, 5], 1]"
      ]
     },
     "execution_count": 46,
     "metadata": {},
     "output_type": "execute_result"
    }
   ],
   "source": [
    "my_new_list[1:9]"
   ]
  },
  {
   "cell_type": "code",
   "execution_count": null,
   "id": "75adbb9f-6349-4cc9-bc8a-79ed0f6fa470",
   "metadata": {},
   "outputs": [],
   "source": []
  }
 ],
 "metadata": {
  "kernelspec": {
   "display_name": "Python 3 (ipykernel)",
   "language": "python",
   "name": "python3"
  },
  "language_info": {
   "codemirror_mode": {
    "name": "ipython",
    "version": 3
   },
   "file_extension": ".py",
   "mimetype": "text/x-python",
   "name": "python",
   "nbconvert_exporter": "python",
   "pygments_lexer": "ipython3",
   "version": "3.12.7"
  }
 },
 "nbformat": 4,
 "nbformat_minor": 5
}
