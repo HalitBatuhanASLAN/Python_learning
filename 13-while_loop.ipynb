{
 "cells": [
  {
   "cell_type": "code",
   "execution_count": 7,
   "id": "7dc30248-be99-4914-be52-ef41b3274f66",
   "metadata": {},
   "outputs": [],
   "source": [
    "my_name = \"Halit Batuhan ASLAN\""
   ]
  },
  {
   "cell_type": "code",
   "execution_count": 13,
   "id": "7f2971f3-30b8-4a2f-8917-722069b1292e",
   "metadata": {},
   "outputs": [
    {
     "ename": "NameError",
     "evalue": "name 'letter' is not defined",
     "output_type": "error",
     "traceback": [
      "\u001b[1;31m---------------------------------------------------------------------------\u001b[0m",
      "\u001b[1;31mNameError\u001b[0m                                 Traceback (most recent call last)",
      "Cell \u001b[1;32mIn[13], line 1\u001b[0m\n\u001b[1;32m----> 1\u001b[0m \u001b[38;5;28;01mwhile\u001b[39;00m letter \u001b[38;5;129;01min\u001b[39;00m my_name:\n\u001b[0;32m      2\u001b[0m     \u001b[38;5;28mprint\u001b[39m(my_name[letter])\n",
      "\u001b[1;31mNameError\u001b[0m: name 'letter' is not defined"
     ]
    }
   ],
   "source": [
    "while letter in my_name:\n",
    "    print(my_name[letter])"
   ]
  },
  {
   "cell_type": "code",
   "execution_count": 25,
   "id": "9ed1dbc6-19d9-4224-b8a7-73fa35d2cd78",
   "metadata": {},
   "outputs": [],
   "source": [
    "my_list = [1,2,3,4,5,6]"
   ]
  },
  {
   "cell_type": "code",
   "execution_count": 51,
   "id": "34c0f41b-9ab5-4a5b-adf5-027fd137479f",
   "metadata": {},
   "outputs": [
    {
     "name": "stdout",
     "output_type": "stream",
     "text": [
      "1 square is 1\n",
      "2 square is 4\n",
      "3 square is 9\n",
      "4 square is 16\n",
      "5 square is 25\n",
      "6 square is 36\n"
     ]
    }
   ],
   "source": [
    "num = 0\n",
    "while num <= 5:\n",
    "    print(f\"{my_list[num]} square is {my_list[num]*my_list[num]}\")\n",
    "    num += 1\n",
    "#f is called format and by that way I can write variable in same print in curly brackets"
   ]
  },
  {
   "cell_type": "code",
   "execution_count": 67,
   "id": "fae8230c-1c56-488d-b670-fc2d98e2c4b8",
   "metadata": {},
   "outputs": [],
   "source": [
    "my_special_nums = [1,34,5,2,6,9,10]"
   ]
  },
  {
   "cell_type": "code",
   "execution_count": 69,
   "id": "18aad3a4-8843-46b1-979f-1fc9bfabd3f2",
   "metadata": {},
   "outputs": [
    {
     "name": "stdout",
     "output_type": "stream",
     "text": [
      "1\n",
      "34\n",
      "5\n",
      "2\n"
     ]
    }
   ],
   "source": [
    "index = 0\n",
    "while 2 in my_special_nums:\n",
    "    print(my_special_nums[index])\n",
    "    my_special_nums.pop()\n",
    "    index += 1"
   ]
  },
  {
   "cell_type": "code",
   "execution_count": null,
   "id": "e0f8227d-b3cf-4ae2-99c1-6622eebcbe2d",
   "metadata": {},
   "outputs": [],
   "source": []
  }
 ],
 "metadata": {
  "kernelspec": {
   "display_name": "Python 3 (ipykernel)",
   "language": "python",
   "name": "python3"
  },
  "language_info": {
   "codemirror_mode": {
    "name": "ipython",
    "version": 3
   },
   "file_extension": ".py",
   "mimetype": "text/x-python",
   "name": "python",
   "nbconvert_exporter": "python",
   "pygments_lexer": "ipython3",
   "version": "3.12.7"
  }
 },
 "nbformat": 4,
 "nbformat_minor": 5
}
