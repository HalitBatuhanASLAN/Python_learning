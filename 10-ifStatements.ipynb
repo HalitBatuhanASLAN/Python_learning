{
 "cells": [
  {
   "cell_type": "code",
   "execution_count": 11,
   "id": "be9a622e-fd05-47db-9f97-dddef700298f",
   "metadata": {},
   "outputs": [
    {
     "name": "stdin",
     "output_type": "stream",
     "text": [
      "Enter your team :  Adana Demirspor\n"
     ]
    }
   ],
   "source": [
    "your_team = input(\"Enter your team : \")"
   ]
  },
  {
   "cell_type": "code",
   "execution_count": 13,
   "id": "9dfbb22f-d6ba-40d5-806c-9b5fd2323fb3",
   "metadata": {},
   "outputs": [
    {
     "name": "stdout",
     "output_type": "stream",
     "text": [
      "You are supporting an Adana team\n"
     ]
    }
   ],
   "source": [
    "if your_team == \"Fenerbahce\":\n",
    "    print(\"You are supporting an Istanbul team\")\n",
    "elif your_team == \"Adana Demirspor\":\n",
    "    print(\"You are supporting an Adana team\")\n",
    "elif your_team == \"Genclerbirligi\":\n",
    "    print(\"You are supporting an ANkara team\")\n",
    "else:\n",
    "    print(\"You are supporting another city's team\")"
   ]
  },
  {
   "cell_type": "code",
   "execution_count": 15,
   "id": "103c3c03-aa9c-4cd0-8798-3d196f0149a2",
   "metadata": {},
   "outputs": [],
   "source": [
    "sub_str = \"hello\""
   ]
  },
  {
   "cell_type": "code",
   "execution_count": 25,
   "id": "a2871f2d-a3f4-492d-a316-3f1dfc7d1387",
   "metadata": {},
   "outputs": [],
   "source": [
    "main_str = \"masfas hellloo asfsa\""
   ]
  },
  {
   "cell_type": "code",
   "execution_count": 27,
   "id": "9f278ca9-ecb7-4bab-99f2-26e37d326fc3",
   "metadata": {},
   "outputs": [
    {
     "name": "stdout",
     "output_type": "stream",
     "text": [
      "false\n"
     ]
    }
   ],
   "source": [
    "if sub_str in main_str:\n",
    "    print(\"true\")\n",
    "else:\n",
    "    print(\"false\")"
   ]
  },
  {
   "cell_type": "code",
   "execution_count": 29,
   "id": "166a4e08-7928-4dd5-bcc4-830f840c2946",
   "metadata": {},
   "outputs": [],
   "source": [
    "my_list = [1,2,3,4,5]"
   ]
  },
  {
   "cell_type": "code",
   "execution_count": 31,
   "id": "58ac123e-0105-452c-a9ff-9fd80f470b31",
   "metadata": {},
   "outputs": [
    {
     "name": "stdout",
     "output_type": "stream",
     "text": [
      "True\n"
     ]
    }
   ],
   "source": [
    "if 5 in my_list:\n",
    "    print(\"True\")\n",
    "else:\n",
    "    print(\"false\")"
   ]
  },
  {
   "cell_type": "code",
   "execution_count": 33,
   "id": "2a0e6c86-0fe5-4800-b9fd-5f5f71492257",
   "metadata": {},
   "outputs": [],
   "source": [
    "my_dict = {\"k1\":100, \"k2\" : 150}"
   ]
  },
  {
   "cell_type": "code",
   "execution_count": 35,
   "id": "e244a4da-ab83-4f81-b5ed-62a7bb21ad12",
   "metadata": {},
   "outputs": [
    {
     "name": "stdout",
     "output_type": "stream",
     "text": [
      "true\n"
     ]
    }
   ],
   "source": [
    "if 100 in my_dict.values():\n",
    "    print(\"true\")\n",
    "else:\n",
    "    print(\"false\")"
   ]
  },
  {
   "cell_type": "code",
   "execution_count": null,
   "id": "2b2c3282-4a84-47e0-b08e-156e984f0a70",
   "metadata": {},
   "outputs": [],
   "source": []
  }
 ],
 "metadata": {
  "kernelspec": {
   "display_name": "Python 3 (ipykernel)",
   "language": "python",
   "name": "python3"
  },
  "language_info": {
   "codemirror_mode": {
    "name": "ipython",
    "version": 3
   },
   "file_extension": ".py",
   "mimetype": "text/x-python",
   "name": "python",
   "nbconvert_exporter": "python",
   "pygments_lexer": "ipython3",
   "version": "3.12.7"
  }
 },
 "nbformat": 4,
 "nbformat_minor": 5
}
