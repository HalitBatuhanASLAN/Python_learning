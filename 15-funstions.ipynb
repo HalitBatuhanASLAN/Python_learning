{
 "cells": [
  {
   "cell_type": "code",
   "execution_count": 1,
   "id": "f6e4ccb4-c576-4816-a5ff-ffacefbaa12c",
   "metadata": {},
   "outputs": [],
   "source": [
    "def summation(num1,num2,num3):\n",
    "    result = num1 + num2 + num3\n",
    "    print(f\"summation of nubers is {result}\")"
   ]
  },
  {
   "cell_type": "code",
   "execution_count": 3,
   "id": "c54f84b5-9341-4aa5-ac68-96c66a033427",
   "metadata": {},
   "outputs": [
    {
     "name": "stdout",
     "output_type": "stream",
     "text": [
      "summation of nubers is 99\n"
     ]
    }
   ],
   "source": [
    "summation(22,33,44)"
   ]
  },
  {
   "cell_type": "code",
   "execution_count": 5,
   "id": "41042d13-6579-4a29-941f-53590907a09c",
   "metadata": {},
   "outputs": [],
   "source": [
    "#default parameters\n",
    "def welcome_message(name = \"programmer\"):\n",
    "    print(f\"Welcome {name}\")"
   ]
  },
  {
   "cell_type": "code",
   "execution_count": 7,
   "id": "b4c14fae-ebfe-4a3a-b671-0eb6eabeaed9",
   "metadata": {},
   "outputs": [
    {
     "name": "stdout",
     "output_type": "stream",
     "text": [
      "Welcome HBA\n"
     ]
    }
   ],
   "source": [
    "welcome_message(\"HBA\")"
   ]
  },
  {
   "cell_type": "code",
   "execution_count": 9,
   "id": "31eb240b-7202-435d-9aaa-1153d4f467b6",
   "metadata": {},
   "outputs": [
    {
     "name": "stdout",
     "output_type": "stream",
     "text": [
      "Welcome programmer\n"
     ]
    }
   ],
   "source": [
    "welcome_message()"
   ]
  },
  {
   "cell_type": "code",
   "execution_count": 15,
   "id": "2026b1db-86b8-43b7-87a2-debd0bc454ee",
   "metadata": {},
   "outputs": [],
   "source": [
    "def factorial(num):\n",
    "    result = 1\n",
    "    while num >= 1:\n",
    "        result *= num\n",
    "        num -= 1\n",
    "    return result"
   ]
  },
  {
   "cell_type": "code",
   "execution_count": 17,
   "id": "5c91f5ec-d3d8-44e3-8447-a2671f8ad1c3",
   "metadata": {},
   "outputs": [],
   "source": [
    "fact = factorial(5)"
   ]
  },
  {
   "cell_type": "code",
   "execution_count": 19,
   "id": "a391933f-bc0a-405a-b43c-ef4857db2ad9",
   "metadata": {},
   "outputs": [
    {
     "data": {
      "text/plain": [
       "120"
      ]
     },
     "execution_count": 19,
     "metadata": {},
     "output_type": "execute_result"
    }
   ],
   "source": [
    "fact"
   ]
  },
  {
   "cell_type": "code",
   "execution_count": 21,
   "id": "1102ad72-be2b-4423-9852-1c96a33a001b",
   "metadata": {},
   "outputs": [],
   "source": [
    "def fact_recursive(num):\n",
    "    result = 1\n",
    "    if(num == 1):\n",
    "        return num\n",
    "    else:\n",
    "        return num * fact_recursive(num-1)"
   ]
  },
  {
   "cell_type": "code",
   "execution_count": 23,
   "id": "75085303-758c-4689-949b-8488468b7c61",
   "metadata": {},
   "outputs": [],
   "source": [
    "fact_rec = fact_recursive(5)"
   ]
  },
  {
   "cell_type": "code",
   "execution_count": 25,
   "id": "1e9d58f9-1fc2-46ef-8a8e-6b2ecfd5b507",
   "metadata": {},
   "outputs": [
    {
     "data": {
      "text/plain": [
       "120"
      ]
     },
     "execution_count": 25,
     "metadata": {},
     "output_type": "execute_result"
    }
   ],
   "source": [
    "fact_rec"
   ]
  },
  {
   "cell_type": "code",
   "execution_count": 27,
   "id": "4085c289-ad82-4980-89ee-6faf90f8d44a",
   "metadata": {},
   "outputs": [],
   "source": [
    "##arbitary arguments"
   ]
  },
  {
   "cell_type": "code",
   "execution_count": 35,
   "id": "992618be-dec2-4eda-ad3f-0c4919100463",
   "metadata": {},
   "outputs": [],
   "source": [
    "#we can write anything instead of args but it is general usage\n",
    "def person(*args):\n",
    "    print(f\"welcome {args}\")"
   ]
  },
  {
   "cell_type": "code",
   "execution_count": 37,
   "id": "5b0ec121-73ef-436d-9ac1-34612aad73a0",
   "metadata": {},
   "outputs": [
    {
     "name": "stdout",
     "output_type": "stream",
     "text": [
      "welcome ('hba',)\n"
     ]
    }
   ],
   "source": [
    "person(\"hba\")"
   ]
  },
  {
   "cell_type": "code",
   "execution_count": 39,
   "id": "978020c9-0aee-49e2-a753-9992206641f1",
   "metadata": {},
   "outputs": [
    {
     "name": "stdout",
     "output_type": "stream",
     "text": [
      "welcome ('hba', 'aaaaaa', 'bbbbbb')\n"
     ]
    }
   ],
   "source": [
    "person(\"hba\",\"aaaaaa\",\"bbbbbb\")"
   ]
  },
  {
   "cell_type": "code",
   "execution_count": 41,
   "id": "b6dfc424-359c-44d5-986c-1ac44eedae6a",
   "metadata": {},
   "outputs": [],
   "source": [
    "##key word arguments"
   ]
  },
  {
   "cell_type": "code",
   "execution_count": 43,
   "id": "c7cd2653-7f93-4320-835e-64a74dbe4945",
   "metadata": {},
   "outputs": [],
   "source": [
    "#we can make a dict, and we can use anything instead of kvargs"
   ]
  },
  {
   "cell_type": "code",
   "execution_count": 45,
   "id": "bacc0d3e-8af2-499d-a43b-ce282591f1af",
   "metadata": {},
   "outputs": [],
   "source": [
    "def foo(**kvargs):\n",
    "    print(kvargs)"
   ]
  },
  {
   "cell_type": "code",
   "execution_count": 53,
   "id": "0b3057a7-a548-4176-a284-891e03e34c6a",
   "metadata": {},
   "outputs": [
    {
     "name": "stdout",
     "output_type": "stream",
     "text": [
      "{'key1': 100, 'key2': 200}\n"
     ]
    }
   ],
   "source": [
    "foo(key1=100,key2=200)"
   ]
  },
  {
   "cell_type": "code",
   "execution_count": null,
   "id": "9b7d33ea-5f12-4b1b-8a5b-b243aa6fa68d",
   "metadata": {},
   "outputs": [],
   "source": []
  }
 ],
 "metadata": {
  "kernelspec": {
   "display_name": "Python 3 (ipykernel)",
   "language": "python",
   "name": "python3"
  },
  "language_info": {
   "codemirror_mode": {
    "name": "ipython",
    "version": 3
   },
   "file_extension": ".py",
   "mimetype": "text/x-python",
   "name": "python",
   "nbconvert_exporter": "python",
   "pygments_lexer": "ipython3",
   "version": "3.12.7"
  }
 },
 "nbformat": 4,
 "nbformat_minor": 5
}
