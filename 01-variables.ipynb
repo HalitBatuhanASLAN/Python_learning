{
 "cells": [
  {
   "cell_type": "markdown",
   "id": "0bbf9d79-9439-4d4a-9dad-8ad7f1a38c46",
   "metadata": {},
   "source": [
    "Variables"
   ]
  },
  {
   "cell_type": "code",
   "execution_count": 2,
   "id": "a46efc09-feec-414b-9af7-89d62fa49760",
   "metadata": {},
   "outputs": [],
   "source": [
    "pi = 3.14"
   ]
  },
  {
   "cell_type": "code",
   "execution_count": 6,
   "id": "e4e23b6a-1b29-462f-a828-be2c234c28f4",
   "metadata": {},
   "outputs": [],
   "source": [
    "num1 = 15"
   ]
  },
  {
   "cell_type": "code",
   "execution_count": 9,
   "id": "502b83c9-4096-49c2-bbc7-18a886699337",
   "metadata": {},
   "outputs": [
    {
     "data": {
      "text/plain": [
       "float"
      ]
     },
     "execution_count": 9,
     "metadata": {},
     "output_type": "execute_result"
    }
   ],
   "source": [
    "type(pi)"
   ]
  },
  {
   "cell_type": "code",
   "execution_count": 11,
   "id": "843b6123-c221-4005-a61b-98629e3f19bf",
   "metadata": {},
   "outputs": [
    {
     "data": {
      "text/plain": [
       "int"
      ]
     },
     "execution_count": 11,
     "metadata": {},
     "output_type": "execute_result"
    }
   ],
   "source": [
    "type(num1)"
   ]
  },
  {
   "cell_type": "code",
   "execution_count": 13,
   "id": "16df089b-abfd-4150-b48b-29f956d18fdd",
   "metadata": {},
   "outputs": [
    {
     "name": "stdin",
     "output_type": "stream",
     "text": [
      "Enter radius :  2\n"
     ]
    }
   ],
   "source": [
    "radius = input(\"Enter radius : \")"
   ]
  },
  {
   "cell_type": "code",
   "execution_count": 15,
   "id": "6dd35d30-668d-4736-8463-0aa796eaedff",
   "metadata": {},
   "outputs": [
    {
     "name": "stdout",
     "output_type": "stream",
     "text": [
      "Area of circle is \n"
     ]
    },
    {
     "ename": "TypeError",
     "evalue": "can't multiply sequence by non-int of type 'str'",
     "output_type": "error",
     "traceback": [
      "\u001b[1;31m---------------------------------------------------------------------------\u001b[0m",
      "\u001b[1;31mTypeError\u001b[0m                                 Traceback (most recent call last)",
      "Cell \u001b[1;32mIn[15], line 2\u001b[0m\n\u001b[0;32m      1\u001b[0m \u001b[38;5;28mprint\u001b[39m(\u001b[38;5;124m\"\u001b[39m\u001b[38;5;124mArea of circle is \u001b[39m\u001b[38;5;124m\"\u001b[39m)\n\u001b[1;32m----> 2\u001b[0m radius\u001b[38;5;241m*\u001b[39mradius\u001b[38;5;241m*\u001b[39mpi\n",
      "\u001b[1;31mTypeError\u001b[0m: can't multiply sequence by non-int of type 'str'"
     ]
    }
   ],
   "source": [
    "print(\"Area of circle is \")\n",
    "radius*radius*pi"
   ]
  },
  {
   "cell_type": "markdown",
   "id": "e6bda881-358d-4b1e-9309-e6693b4598b5",
   "metadata": {},
   "source": [
    "burada radius tyoe string oldu bunu type casting ile çebvirmemiz lazım"
   ]
  },
  {
   "cell_type": "code",
   "execution_count": 18,
   "id": "1dffc695-544e-4788-adc4-7dcde98a6520",
   "metadata": {},
   "outputs": [],
   "source": [
    "int_radius = int(radius)"
   ]
  },
  {
   "cell_type": "code",
   "execution_count": 22,
   "id": "38463b4e-1bea-48c6-bdbf-cacab8632b60",
   "metadata": {},
   "outputs": [
    {
     "name": "stdout",
     "output_type": "stream",
     "text": [
      "Area of circle is \n"
     ]
    },
    {
     "data": {
      "text/plain": [
       "12.56"
      ]
     },
     "execution_count": 22,
     "metadata": {},
     "output_type": "execute_result"
    }
   ],
   "source": [
    "print(\"Area of circle is \")\n",
    "int_radius*int_radius*pi"
   ]
  },
  {
   "cell_type": "code",
   "execution_count": 26,
   "id": "9923444d-51b1-4ad3-b8a6-3f655584381b",
   "metadata": {},
   "outputs": [
    {
     "name": "stdin",
     "output_type": "stream",
     "text": [
      " 15\n"
     ]
    }
   ],
   "source": [
    "age = int(input())"
   ]
  },
  {
   "cell_type": "code",
   "execution_count": 32,
   "id": "3194d713-2c24-4a3b-ad3f-fc4cbe2551c1",
   "metadata": {},
   "outputs": [
    {
     "data": {
      "text/plain": [
       "str"
      ]
     },
     "execution_count": 32,
     "metadata": {},
     "output_type": "execute_result"
    }
   ],
   "source": [
    "type(age)\n",
    "type(radius)\n"
   ]
  },
  {
   "cell_type": "markdown",
   "id": "33ef3db6-ab5a-4355-b2dd-0dc790998997",
   "metadata": {},
   "source": [
    "burada sadece en alttakinin değerini verir"
   ]
  },
  {
   "cell_type": "code",
   "execution_count": 43,
   "id": "cf6fd6be-98f5-4eb6-b0d4-75d8349b2d81",
   "metadata": {},
   "outputs": [
    {
     "name": "stdout",
     "output_type": "stream",
     "text": [
      "<class 'int'>\n",
      "<class 'str'>\n",
      "<class 'int'>\n"
     ]
    },
    {
     "data": {
      "text/plain": [
       "float"
      ]
     },
     "execution_count": 43,
     "metadata": {},
     "output_type": "execute_result"
    }
   ],
   "source": [
    "print(type(age))\n",
    "print(type(radius))\n",
    "print(type(int_radius))\n",
    "type(pi)"
   ]
  },
  {
   "cell_type": "code",
   "execution_count": null,
   "id": "67ec1177-bc44-4dfe-8293-1018677835ea",
   "metadata": {},
   "outputs": [],
   "source": []
  }
 ],
 "metadata": {
  "kernelspec": {
   "display_name": "Python 3 (ipykernel)",
   "language": "python",
   "name": "python3"
  },
  "language_info": {
   "codemirror_mode": {
    "name": "ipython",
    "version": 3
   },
   "file_extension": ".py",
   "mimetype": "text/x-python",
   "name": "python",
   "nbconvert_exporter": "python",
   "pygments_lexer": "ipython3",
   "version": "3.12.7"
  }
 },
 "nbformat": 4,
 "nbformat_minor": 5
}
