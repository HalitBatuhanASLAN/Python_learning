{
 "cells": [
  {
   "cell_type": "code",
   "execution_count": 11,
   "id": "eb96e803-86a2-4006-8d2b-070ca78817c2",
   "metadata": {},
   "outputs": [],
   "source": [
    "class Car():\n",
    "    def __init__(self,brand,year):\n",
    "        self.brand = brand\n",
    "        self.year = year\n",
    "\n",
    "    def __str__(self):\n",
    "        return f\"{self.brand} car company was established in {self.year}\"\n",
    "    def __len__(self):\n",
    "        return self.year"
   ]
  },
  {
   "cell_type": "code",
   "execution_count": 13,
   "id": "6401776a-f186-42b3-8c66-381f32026bf1",
   "metadata": {},
   "outputs": [],
   "source": [
    "car1 = Car(\"Mercedes\",1880)"
   ]
  },
  {
   "cell_type": "code",
   "execution_count": 15,
   "id": "96a1fdd7-7d22-4160-9fe5-bf299b3e66ee",
   "metadata": {},
   "outputs": [
    {
     "name": "stdout",
     "output_type": "stream",
     "text": [
      "Mercedes car company was established in 1880\n"
     ]
    }
   ],
   "source": [
    "#by __str__ special metod we use print like following\n",
    "#it looks like operator overloading in c++ (<<)\n",
    "print(car1)"
   ]
  },
  {
   "cell_type": "code",
   "execution_count": 19,
   "id": "d1d9cc0e-b151-4cae-89bc-c44c5193d82e",
   "metadata": {},
   "outputs": [
    {
     "data": {
      "text/plain": [
       "1880"
      ]
     },
     "execution_count": 19,
     "metadata": {},
     "output_type": "execute_result"
    }
   ],
   "source": [
    "#tihs is another special metod\n",
    "len(car1)"
   ]
  },
  {
   "cell_type": "code",
   "execution_count": null,
   "id": "9d20fb94-4895-40c7-b48d-bd8af0d66b20",
   "metadata": {},
   "outputs": [],
   "source": []
  }
 ],
 "metadata": {
  "kernelspec": {
   "display_name": "Python 3 (ipykernel)",
   "language": "python",
   "name": "python3"
  },
  "language_info": {
   "codemirror_mode": {
    "name": "ipython",
    "version": 3
   },
   "file_extension": ".py",
   "mimetype": "text/x-python",
   "name": "python",
   "nbconvert_exporter": "python",
   "pygments_lexer": "ipython3",
   "version": "3.12.7"
  }
 },
 "nbformat": 4,
 "nbformat_minor": 5
}
