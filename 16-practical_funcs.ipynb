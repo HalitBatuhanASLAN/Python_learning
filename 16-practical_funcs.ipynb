{
 "cells": [
  {
   "cell_type": "code",
   "execution_count": 19,
   "id": "6241d441-c9d0-4fd2-ba64-47ec422bb119",
   "metadata": {},
   "outputs": [],
   "source": [
    "#map"
   ]
  },
  {
   "cell_type": "code",
   "execution_count": 21,
   "id": "e384d93e-5fbb-4dee-8425-2f4ace050b77",
   "metadata": {},
   "outputs": [],
   "source": [
    "def car_brand_controller(brand):\n",
    "    return brand == \"ford\""
   ]
  },
  {
   "cell_type": "code",
   "execution_count": 23,
   "id": "a69fd359-10ef-4097-876f-3a80bfdd8743",
   "metadata": {},
   "outputs": [],
   "source": [
    "my_cars = [\"ford\",\"mercedes\",\"bmw\",\"alfa\",\"fordMustang\",\"tofas\"]"
   ]
  },
  {
   "cell_type": "code",
   "execution_count": 25,
   "id": "f0e8d90e-636b-4048-84a7-6632d30bcb22",
   "metadata": {},
   "outputs": [
    {
     "data": {
      "text/plain": [
       "[True, False, False, False, False, False]"
      ]
     },
     "execution_count": 25,
     "metadata": {},
     "output_type": "execute_result"
    }
   ],
   "source": [
    "list(map(car_brand_controller,my_cars))"
   ]
  },
  {
   "cell_type": "code",
   "execution_count": 27,
   "id": "079a31be-e2ed-48c6-a084-c59ae78bf753",
   "metadata": {},
   "outputs": [],
   "source": [
    "def car_brand_controller2(brand):\n",
    "    return \"ford\" in brand"
   ]
  },
  {
   "cell_type": "code",
   "execution_count": 29,
   "id": "32a86886-31ec-45bb-ad6e-82c1d0f01850",
   "metadata": {},
   "outputs": [
    {
     "data": {
      "text/plain": [
       "[True, False, False, False, True, False]"
      ]
     },
     "execution_count": 29,
     "metadata": {},
     "output_type": "execute_result"
    }
   ],
   "source": [
    "list(map(car_brand_controller2,my_cars))"
   ]
  },
  {
   "cell_type": "code",
   "execution_count": 31,
   "id": "9be7a75a-9b8c-4f35-b98d-c72bf9781db0",
   "metadata": {},
   "outputs": [],
   "source": [
    "##filter"
   ]
  },
  {
   "cell_type": "code",
   "execution_count": 33,
   "id": "b6e773e3-bec2-41aa-83fe-9c720b951346",
   "metadata": {},
   "outputs": [
    {
     "data": {
      "text/plain": [
       "['ford']"
      ]
     },
     "execution_count": 33,
     "metadata": {},
     "output_type": "execute_result"
    }
   ],
   "source": [
    "list(filter(car_brand_controller,my_cars))"
   ]
  },
  {
   "cell_type": "code",
   "execution_count": 35,
   "id": "fd4a3d44-2844-4b5b-998b-4d72c8786913",
   "metadata": {},
   "outputs": [
    {
     "data": {
      "text/plain": [
       "['ford', 'fordMustang']"
      ]
     },
     "execution_count": 35,
     "metadata": {},
     "output_type": "execute_result"
    }
   ],
   "source": [
    "list(filter(car_brand_controller2,my_cars))"
   ]
  },
  {
   "cell_type": "code",
   "execution_count": 37,
   "id": "47efc311-a586-4174-a289-ea84f46af147",
   "metadata": {},
   "outputs": [],
   "source": [
    "#lambda"
   ]
  },
  {
   "cell_type": "code",
   "execution_count": 39,
   "id": "9d40fd65-cd28-4a3d-89bf-eb59932cac9d",
   "metadata": {},
   "outputs": [],
   "source": [
    "multiply = lambda num:num*5"
   ]
  },
  {
   "cell_type": "code",
   "execution_count": 41,
   "id": "0548f79a-f40d-4e3c-9292-baf4f67cf350",
   "metadata": {},
   "outputs": [
    {
     "data": {
      "text/plain": [
       "25"
      ]
     },
     "execution_count": 41,
     "metadata": {},
     "output_type": "execute_result"
    }
   ],
   "source": [
    "multiply(5)"
   ]
  },
  {
   "cell_type": "code",
   "execution_count": 46,
   "id": "ece81c6b-5294-4c91-a287-45118563cd2a",
   "metadata": {},
   "outputs": [
    {
     "data": {
      "text/plain": [
       "[1, 4, 9, 16, 25]"
      ]
     },
     "execution_count": 46,
     "metadata": {},
     "output_type": "execute_result"
    }
   ],
   "source": [
    "my_nums = [1,2,3,4,5]\n",
    "list(map(lambda num:num**2,my_nums))"
   ]
  },
  {
   "cell_type": "code",
   "execution_count": null,
   "id": "829a306d-e0ea-429c-a623-e04b10c012d0",
   "metadata": {},
   "outputs": [],
   "source": []
  },
  {
   "cell_type": "code",
   "execution_count": null,
   "id": "d4f94cb7-1f53-4185-9cc9-68199a534906",
   "metadata": {},
   "outputs": [],
   "source": []
  }
 ],
 "metadata": {
  "kernelspec": {
   "display_name": "Python 3 (ipykernel)",
   "language": "python",
   "name": "python3"
  },
  "language_info": {
   "codemirror_mode": {
    "name": "ipython",
    "version": 3
   },
   "file_extension": ".py",
   "mimetype": "text/x-python",
   "name": "python",
   "nbconvert_exporter": "python",
   "pygments_lexer": "ipython3",
   "version": "3.12.7"
  }
 },
 "nbformat": 4,
 "nbformat_minor": 5
}
