{
 "cells": [
  {
   "cell_type": "code",
   "execution_count": 51,
   "id": "cfbe8fa8-c537-4a27-b769-9b0bc68269f0",
   "metadata": {},
   "outputs": [],
   "source": [
    "#self refers to objectself\n",
    "class Student():\n",
    "    #default value\n",
    "    school = \"GTU\"\n",
    "\n",
    "    #with following it is like contructor it takes at creating time\n",
    "    def __init__(self,name,age,std_code):\n",
    "        self.name = name\n",
    "        self.age = age\n",
    "        self.std_code = std_code\n",
    "\n",
    "    #metods\n",
    "    def print_info(self):\n",
    "        print(f\" name : {self.name},\\n age : {self.age}\")"
   ]
  },
  {
   "cell_type": "code",
   "execution_count": 53,
   "id": "2cb33bb2-05eb-44f2-8a9a-3632220c29a0",
   "metadata": {},
   "outputs": [],
   "source": [
    "student1 = Student(\"Halit\",20,100)"
   ]
  },
  {
   "cell_type": "code",
   "execution_count": 55,
   "id": "a2ad4f87-16e9-42bf-ba51-211f09c96d99",
   "metadata": {},
   "outputs": [
    {
     "data": {
      "text/plain": [
       "20"
      ]
     },
     "execution_count": 55,
     "metadata": {},
     "output_type": "execute_result"
    }
   ],
   "source": [
    "student1.age"
   ]
  },
  {
   "cell_type": "code",
   "execution_count": 57,
   "id": "f9c45c53-d88d-4963-a2ae-f2f4969225db",
   "metadata": {},
   "outputs": [],
   "source": [
    "student1.age = 50"
   ]
  },
  {
   "cell_type": "code",
   "execution_count": 59,
   "id": "5b0789e5-2ac5-414a-8447-e54a3c6f7a1a",
   "metadata": {},
   "outputs": [
    {
     "data": {
      "text/plain": [
       "50"
      ]
     },
     "execution_count": 59,
     "metadata": {},
     "output_type": "execute_result"
    }
   ],
   "source": [
    "student1.age"
   ]
  },
  {
   "cell_type": "code",
   "execution_count": 61,
   "id": "87ac45a6-1c23-46fe-ae77-35f0f40e43d1",
   "metadata": {},
   "outputs": [
    {
     "data": {
      "text/plain": [
       "'GTU'"
      ]
     },
     "execution_count": 61,
     "metadata": {},
     "output_type": "execute_result"
    }
   ],
   "source": [
    "student1.school"
   ]
  },
  {
   "cell_type": "code",
   "execution_count": 63,
   "id": "790bdfa2-08ca-4350-88f6-546e410bba1b",
   "metadata": {},
   "outputs": [],
   "source": [
    "student1.school = \"AAAL\""
   ]
  },
  {
   "cell_type": "code",
   "execution_count": 65,
   "id": "c7f161e2-9519-449e-ba13-88fe5e360409",
   "metadata": {},
   "outputs": [
    {
     "data": {
      "text/plain": [
       "'AAAL'"
      ]
     },
     "execution_count": 65,
     "metadata": {},
     "output_type": "execute_result"
    }
   ],
   "source": [
    "student1.school"
   ]
  },
  {
   "cell_type": "code",
   "execution_count": 67,
   "id": "560c1191-0f7f-49be-ac4c-e77521a44674",
   "metadata": {},
   "outputs": [
    {
     "name": "stdout",
     "output_type": "stream",
     "text": [
      " name : Halit,\n",
      " age : 50\n"
     ]
    }
   ],
   "source": [
    "student1.print_info()"
   ]
  },
  {
   "cell_type": "code",
   "execution_count": 79,
   "id": "8aca0b44-a62d-4ac0-a6c3-956a38929be5",
   "metadata": {},
   "outputs": [],
   "source": [
    "class Car():\n",
    "    countary = \"Germany\"\n",
    "    age = 0\n",
    "    def __init__(self,year,brand = \"Mercedes\"):\n",
    "        self.brand = brand\n",
    "        self.year = year\n",
    "        Car.age = 2025 - self.year\n",
    "    def car_info(self):\n",
    "        print(f\"Car brand is {self.brand}, age is {2025-self.year}\")"
   ]
  },
  {
   "cell_type": "code",
   "execution_count": 85,
   "id": "b080b0ac-21a7-4ff0-ac21-c62aab8a79d5",
   "metadata": {},
   "outputs": [
    {
     "data": {
      "text/plain": [
       "1994"
      ]
     },
     "execution_count": 85,
     "metadata": {},
     "output_type": "execute_result"
    }
   ],
   "source": [
    "first_car = Car(1994)\n",
    "first_car.year"
   ]
  },
  {
   "cell_type": "code",
   "execution_count": 87,
   "id": "abf5fde6-07ce-473d-ae5d-160cb9f39208",
   "metadata": {},
   "outputs": [
    {
     "name": "stdout",
     "output_type": "stream",
     "text": [
      "Car brand is Mercedes, age is 31\n"
     ]
    }
   ],
   "source": [
    "first_car.car_info()"
   ]
  },
  {
   "cell_type": "code",
   "execution_count": 89,
   "id": "d091bfd9-f817-4d73-9e2a-34b1844d6faa",
   "metadata": {},
   "outputs": [
    {
     "data": {
      "text/plain": [
       "31"
      ]
     },
     "execution_count": 89,
     "metadata": {},
     "output_type": "execute_result"
    }
   ],
   "source": [
    "first_car.age"
   ]
  },
  {
   "cell_type": "code",
   "execution_count": 93,
   "id": "5588047e-d894-4be6-8114-0569409297bf",
   "metadata": {},
   "outputs": [],
   "source": [
    "#inheritance"
   ]
  },
  {
   "cell_type": "code",
   "execution_count": 113,
   "id": "dde50968-be9a-4d69-a333-b5e301e0f67b",
   "metadata": {},
   "outputs": [],
   "source": [
    "class C1():\n",
    "    def __init__(self):\n",
    "        print(\"C1 object created\")\n",
    "    def metod1(self):\n",
    "        print(\"metod 1\")\n",
    "    def metod2(self):\n",
    "        print(\"metod 2\")"
   ]
  },
  {
   "cell_type": "code",
   "execution_count": 125,
   "id": "e12c0ba9-f2f0-4c02-946a-cc7483679e0b",
   "metadata": {},
   "outputs": [],
   "source": [
    "class C2(C1):\n",
    "    def __init__(self):\n",
    "        print(\"C2 object created\")\n",
    "        C1.__init__(self)\n",
    "    def metod3(self):\n",
    "        print(\"metod3\")\n",
    "\n",
    "    def metod1(self):\n",
    "        print(\"new version of etod1 in C2\")"
   ]
  },
  {
   "cell_type": "code",
   "execution_count": 127,
   "id": "e31f5b6d-f019-4dd7-8c56-312881372992",
   "metadata": {},
   "outputs": [
    {
     "name": "stdout",
     "output_type": "stream",
     "text": [
      "C1 object created\n"
     ]
    }
   ],
   "source": [
    "c1_obj = C1()"
   ]
  },
  {
   "cell_type": "code",
   "execution_count": 129,
   "id": "ccaca165-baed-44dc-89b0-cbd82dfb555f",
   "metadata": {},
   "outputs": [
    {
     "name": "stdout",
     "output_type": "stream",
     "text": [
      "C2 object created\n",
      "C1 object created\n"
     ]
    }
   ],
   "source": [
    "c2_obj = C2()"
   ]
  },
  {
   "cell_type": "code",
   "execution_count": 131,
   "id": "dc040c03-3a47-493a-a496-51091e4f50e7",
   "metadata": {},
   "outputs": [
    {
     "name": "stdout",
     "output_type": "stream",
     "text": [
      "metod 2\n"
     ]
    }
   ],
   "source": [
    "c2_obj.metod2()"
   ]
  },
  {
   "cell_type": "code",
   "execution_count": 133,
   "id": "46e9a12e-dcd1-4fd0-aa3d-d32740aee557",
   "metadata": {},
   "outputs": [
    {
     "name": "stdout",
     "output_type": "stream",
     "text": [
      "metod 1\n",
      "new version of etod1 in C2\n"
     ]
    }
   ],
   "source": [
    "c1_obj.metod1()\n",
    "c2_obj.metod1()"
   ]
  },
  {
   "cell_type": "code",
   "execution_count": 137,
   "id": "7506ec11-a8c0-47e9-8d6b-75e717e0506b",
   "metadata": {},
   "outputs": [],
   "source": [
    "#polymorphism"
   ]
  },
  {
   "cell_type": "code",
   "execution_count": 167,
   "id": "bd10079e-50ab-4f06-91df-26e5c97d80dc",
   "metadata": {},
   "outputs": [],
   "source": [
    "class Apple():\n",
    "    def __init__(self,name):\n",
    "        self.name = name\n",
    "        self.calories = 100\n",
    "    def cal(self):\n",
    "        print(f\"{self.name} has {self.calories}\")"
   ]
  },
  {
   "cell_type": "code",
   "execution_count": 169,
   "id": "3c5d90e8-029f-441a-8874-24925c9491d3",
   "metadata": {},
   "outputs": [],
   "source": [
    "class Banana():\n",
    "    def __init__(self,name):\n",
    "        self.name = name\n",
    "        self.calories = 200\n",
    "    def cal(self):\n",
    "        print(f\"{self.name} has {self.calories}\")"
   ]
  },
  {
   "cell_type": "code",
   "execution_count": 171,
   "id": "a346644e-def0-4c67-91f3-2b3245adab8e",
   "metadata": {},
   "outputs": [],
   "source": [
    "apple = Apple(\"apple\")"
   ]
  },
  {
   "cell_type": "code",
   "execution_count": 173,
   "id": "f51fb948-c99c-4322-af0e-14d855c9196a",
   "metadata": {},
   "outputs": [],
   "source": [
    "banana = Banana(\"banana\")"
   ]
  },
  {
   "cell_type": "code",
   "execution_count": 175,
   "id": "ad3de938-f232-4529-b49a-03bba9c36021",
   "metadata": {},
   "outputs": [
    {
     "name": "stdout",
     "output_type": "stream",
     "text": [
      "apple has 100\n",
      "banana has 200\n"
     ]
    }
   ],
   "source": [
    "apple.cal()\n",
    "banana.cal()"
   ]
  },
  {
   "cell_type": "code",
   "execution_count": 177,
   "id": "2e1a1b37-43a2-43b8-bcc7-8302d9ed76cf",
   "metadata": {},
   "outputs": [],
   "source": [
    "fruit_list = [banana,apple]"
   ]
  },
  {
   "cell_type": "code",
   "execution_count": 179,
   "id": "9288c396-a488-4e8e-9f6d-2e9414d69bf0",
   "metadata": {},
   "outputs": [
    {
     "name": "stdout",
     "output_type": "stream",
     "text": [
      "banana has 200\n",
      "apple has 100\n"
     ]
    }
   ],
   "source": [
    "for fruit in fruit_list:\n",
    "    fruit.cal()"
   ]
  },
  {
   "cell_type": "code",
   "execution_count": null,
   "id": "11df9d95-5ea9-4396-853b-eb64fb5572a1",
   "metadata": {},
   "outputs": [],
   "source": []
  }
 ],
 "metadata": {
  "kernelspec": {
   "display_name": "Python 3 (ipykernel)",
   "language": "python",
   "name": "python3"
  },
  "language_info": {
   "codemirror_mode": {
    "name": "ipython",
    "version": 3
   },
   "file_extension": ".py",
   "mimetype": "text/x-python",
   "name": "python",
   "nbconvert_exporter": "python",
   "pygments_lexer": "ipython3",
   "version": "3.12.7"
  }
 },
 "nbformat": 4,
 "nbformat_minor": 5
}
