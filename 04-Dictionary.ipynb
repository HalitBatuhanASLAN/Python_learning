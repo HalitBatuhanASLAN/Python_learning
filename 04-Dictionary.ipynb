{
 "cells": [
  {
   "cell_type": "code",
   "execution_count": 1,
   "id": "2cf193b4-227a-4a91-84a9-491b3485eb5e",
   "metadata": {},
   "outputs": [],
   "source": [
    "my_dict_1 = {\"key1\":\"valua1\",\"key2\":2,3:\"value3\",4:4}"
   ]
  },
  {
   "cell_type": "code",
   "execution_count": 3,
   "id": "7fbe1fe6-ef03-4a80-81f3-57c442265e0c",
   "metadata": {},
   "outputs": [
    {
     "data": {
      "text/plain": [
       "{'key1': 'valua1', 'key2': 2, 3: 'value3', 4: 4}"
      ]
     },
     "execution_count": 3,
     "metadata": {},
     "output_type": "execute_result"
    }
   ],
   "source": [
    "my_dict_1"
   ]
  },
  {
   "cell_type": "code",
   "execution_count": 5,
   "id": "4ece45ca-6bfd-4ffe-9d8a-a29e15bd2c28",
   "metadata": {},
   "outputs": [
    {
     "ename": "KeyError",
     "evalue": "2",
     "output_type": "error",
     "traceback": [
      "\u001b[1;31m---------------------------------------------------------------------------\u001b[0m",
      "\u001b[1;31mKeyError\u001b[0m                                  Traceback (most recent call last)",
      "Cell \u001b[1;32mIn[5], line 1\u001b[0m\n\u001b[1;32m----> 1\u001b[0m my_dict_1[\u001b[38;5;241m2\u001b[39m]\n",
      "\u001b[1;31mKeyError\u001b[0m: 2"
     ]
    }
   ],
   "source": [
    "my_dict_1[2]"
   ]
  },
  {
   "cell_type": "code",
   "execution_count": 7,
   "id": "faaa01e3-8de6-469e-9e62-3d5e4ac2f71d",
   "metadata": {},
   "outputs": [
    {
     "data": {
      "text/plain": [
       "'valua1'"
      ]
     },
     "execution_count": 7,
     "metadata": {},
     "output_type": "execute_result"
    }
   ],
   "source": [
    "my_dict_1[\"key1\"]"
   ]
  },
  {
   "cell_type": "code",
   "execution_count": 9,
   "id": "a07eed9f-d4ee-4146-9070-1c5bd9a929cb",
   "metadata": {},
   "outputs": [
    {
     "data": {
      "text/plain": [
       "4"
      ]
     },
     "execution_count": 9,
     "metadata": {},
     "output_type": "execute_result"
    }
   ],
   "source": [
    "my_dict_1[4]"
   ]
  },
  {
   "cell_type": "code",
   "execution_count": 11,
   "id": "b8652e4f-7a21-4cb1-aad6-5322fda59afb",
   "metadata": {},
   "outputs": [
    {
     "data": {
      "text/plain": [
       "dict_values(['valua1', 2, 'value3', 4])"
      ]
     },
     "execution_count": 11,
     "metadata": {},
     "output_type": "execute_result"
    }
   ],
   "source": [
    "my_dict_1.values()"
   ]
  },
  {
   "cell_type": "code",
   "execution_count": 13,
   "id": "b244f0d2-7aab-43d5-b8b2-20b5eb92776e",
   "metadata": {},
   "outputs": [
    {
     "data": {
      "text/plain": [
       "dict_keys(['key1', 'key2', 3, 4])"
      ]
     },
     "execution_count": 13,
     "metadata": {},
     "output_type": "execute_result"
    }
   ],
   "source": [
    "my_dict_1.keys()"
   ]
  },
  {
   "cell_type": "code",
   "execution_count": 15,
   "id": "e810f849-3f6a-473f-9f65-4a691cf00476",
   "metadata": {},
   "outputs": [],
   "source": [
    "my_dict_1[\"key2\"] = 15\n",
    "#it is mutable yani değiştiriliebilir"
   ]
  },
  {
   "cell_type": "code",
   "execution_count": 17,
   "id": "ffc35820-c632-445a-ae06-a8f0f5472915",
   "metadata": {},
   "outputs": [
    {
     "data": {
      "text/plain": [
       "15"
      ]
     },
     "execution_count": 17,
     "metadata": {},
     "output_type": "execute_result"
    }
   ],
   "source": [
    "my_dict_1[\"key2\"]"
   ]
  },
  {
   "cell_type": "code",
   "execution_count": 19,
   "id": "743aa380-bfa1-4ec1-a91b-6c98f58cb9c5",
   "metadata": {},
   "outputs": [],
   "source": [
    "my_dict_1[\"new_key\"] = 3.13"
   ]
  },
  {
   "cell_type": "code",
   "execution_count": 21,
   "id": "aabd3558-6d28-4971-8c9c-a059ab870eb5",
   "metadata": {},
   "outputs": [
    {
     "data": {
      "text/plain": [
       "{'key1': 'valua1', 'key2': 15, 3: 'value3', 4: 4, 'new_key': 3.13}"
      ]
     },
     "execution_count": 21,
     "metadata": {},
     "output_type": "execute_result"
    }
   ],
   "source": [
    "my_dict_1"
   ]
  },
  {
   "cell_type": "code",
   "execution_count": 23,
   "id": "e8659f6f-1f23-424c-987f-23d6555f21ca",
   "metadata": {},
   "outputs": [],
   "source": [
    "new_dict = {\"key1\":\"value1\", 3:{\"key of value of 3\":\"value of key 3's values key\"}}"
   ]
  },
  {
   "cell_type": "code",
   "execution_count": 25,
   "id": "41c1f895-c65f-405b-b012-30f44ec8a067",
   "metadata": {},
   "outputs": [
    {
     "data": {
      "text/plain": [
       "{'key1': 'value1', 3: {'key of value of 3': \"value of key 3's values key\"}}"
      ]
     },
     "execution_count": 25,
     "metadata": {},
     "output_type": "execute_result"
    }
   ],
   "source": [
    "new_dict"
   ]
  },
  {
   "cell_type": "code",
   "execution_count": 29,
   "id": "d55b2a47-7c1d-4520-9075-1bcfc8e6c653",
   "metadata": {},
   "outputs": [
    {
     "data": {
      "text/plain": [
       "\"value of key 3's values key\""
      ]
     },
     "execution_count": 29,
     "metadata": {},
     "output_type": "execute_result"
    }
   ],
   "source": [
    "new_dict[3][\"key of value of 3\"]"
   ]
  },
  {
   "cell_type": "code",
   "execution_count": 33,
   "id": "d19666a8-0b6d-4fbd-8919-b0f9314e839e",
   "metadata": {},
   "outputs": [
    {
     "data": {
      "text/plain": [
       "dict_keys(['key of value of 3'])"
      ]
     },
     "execution_count": 33,
     "metadata": {},
     "output_type": "execute_result"
    }
   ],
   "source": [
    "new_dict[3].keys()"
   ]
  },
  {
   "cell_type": "code",
   "execution_count": 35,
   "id": "bd705f45-7d82-42b9-b4d7-c132a217a622",
   "metadata": {},
   "outputs": [
    {
     "data": {
      "text/plain": [
       "dict_values([\"value of key 3's values key\"])"
      ]
     },
     "execution_count": 35,
     "metadata": {},
     "output_type": "execute_result"
    }
   ],
   "source": [
    "new_dict[3].values()"
   ]
  },
  {
   "cell_type": "code",
   "execution_count": null,
   "id": "f35db110-e722-4dda-be1b-ee9441fa68aa",
   "metadata": {},
   "outputs": [],
   "source": []
  }
 ],
 "metadata": {
  "kernelspec": {
   "display_name": "Python 3 (ipykernel)",
   "language": "python",
   "name": "python3"
  },
  "language_info": {
   "codemirror_mode": {
    "name": "ipython",
    "version": 3
   },
   "file_extension": ".py",
   "mimetype": "text/x-python",
   "name": "python",
   "nbconvert_exporter": "python",
   "pygments_lexer": "ipython3",
   "version": "3.12.7"
  }
 },
 "nbformat": 4,
 "nbformat_minor": 5
}
