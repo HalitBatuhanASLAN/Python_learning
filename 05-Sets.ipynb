{
 "cells": [
  {
   "cell_type": "code",
   "execution_count": 2,
   "id": "57a4f213-5bef-43b5-87b4-f7651bd02cc5",
   "metadata": {},
   "outputs": [],
   "source": [
    "my_dict = dict()\n",
    "#bu şekilde yapılabilir boş liste oluşturma işlemi"
   ]
  },
  {
   "cell_type": "code",
   "execution_count": 4,
   "id": "2934b028-b3d3-456c-aa63-f209c7781bbf",
   "metadata": {},
   "outputs": [
    {
     "data": {
      "text/plain": [
       "dict"
      ]
     },
     "execution_count": 4,
     "metadata": {},
     "output_type": "execute_result"
    }
   ],
   "source": [
    "type(my_dict)"
   ]
  },
  {
   "cell_type": "code",
   "execution_count": 8,
   "id": "1b10119d-3676-48b6-bfee-96b98156678c",
   "metadata": {},
   "outputs": [],
   "source": [
    "##setlerde aynı elemenadan yalnızca 1 tane olabilir ve aynı tür olması lazım ve sıralı bir şekilde olur"
   ]
  },
  {
   "cell_type": "code",
   "execution_count": 10,
   "id": "9178a44a-d011-4dc4-bd6b-ae13291ea1f0",
   "metadata": {},
   "outputs": [],
   "source": [
    "my_list = [1,2,3,1,1,1]"
   ]
  },
  {
   "cell_type": "code",
   "execution_count": 12,
   "id": "859babe9-5f5f-443b-8786-c97a9886d5e2",
   "metadata": {},
   "outputs": [
    {
     "data": {
      "text/plain": [
       "[1, 2, 3, 1, 1, 1]"
      ]
     },
     "execution_count": 12,
     "metadata": {},
     "output_type": "execute_result"
    }
   ],
   "source": [
    "my_list"
   ]
  },
  {
   "cell_type": "code",
   "execution_count": 14,
   "id": "d02f79e1-3432-4713-ba01-f546636fc072",
   "metadata": {},
   "outputs": [],
   "source": [
    "my_set = set(my_list)"
   ]
  },
  {
   "cell_type": "code",
   "execution_count": 16,
   "id": "8e243c63-a4ac-468e-b4f8-d19e45b6f611",
   "metadata": {},
   "outputs": [
    {
     "data": {
      "text/plain": [
       "{1, 2, 3}"
      ]
     },
     "execution_count": 16,
     "metadata": {},
     "output_type": "execute_result"
    }
   ],
   "source": [
    "my_set"
   ]
  },
  {
   "cell_type": "code",
   "execution_count": 18,
   "id": "15aba8f2-986d-4048-868c-ef700ae43be5",
   "metadata": {},
   "outputs": [],
   "source": [
    "my_new_set = {1,4,5,2,0}"
   ]
  },
  {
   "cell_type": "code",
   "execution_count": 20,
   "id": "a145c940-613e-4f5b-b6c1-b55770a660ff",
   "metadata": {},
   "outputs": [
    {
     "data": {
      "text/plain": [
       "{0, 1, 2, 4, 5}"
      ]
     },
     "execution_count": 20,
     "metadata": {},
     "output_type": "execute_result"
    }
   ],
   "source": [
    "my_new_set"
   ]
  },
  {
   "cell_type": "code",
   "execution_count": 22,
   "id": "7d4177c1-472d-49af-adad-9e4fef670c74",
   "metadata": {},
   "outputs": [],
   "source": [
    "empty_set = {}\n",
    "#bu şekilde olunca type dönüşğmğ yapmadığmıız için dict olarak aldı"
   ]
  },
  {
   "cell_type": "code",
   "execution_count": 24,
   "id": "ead97547-3c38-450b-98de-ff89f5ee2f38",
   "metadata": {},
   "outputs": [
    {
     "data": {
      "text/plain": [
       "dict"
      ]
     },
     "execution_count": 24,
     "metadata": {},
     "output_type": "execute_result"
    }
   ],
   "source": [
    "type(empty_set)"
   ]
  },
  {
   "cell_type": "code",
   "execution_count": 28,
   "id": "f8dd5529-d6d1-4c13-b5b1-4fe02eb6fddb",
   "metadata": {},
   "outputs": [],
   "source": [
    "empty_set = set()\n",
    "#type casting yapıldığı için artık türü set olarak geçiyor"
   ]
  },
  {
   "cell_type": "code",
   "execution_count": 30,
   "id": "48155a5a-c676-4e26-b687-b5eb59989b4e",
   "metadata": {},
   "outputs": [
    {
     "data": {
      "text/plain": [
       "set"
      ]
     },
     "execution_count": 30,
     "metadata": {},
     "output_type": "execute_result"
    }
   ],
   "source": [
    "type(empty_set)"
   ]
  },
  {
   "cell_type": "code",
   "execution_count": 32,
   "id": "840c9567-c639-4534-a904-9e851513791b",
   "metadata": {},
   "outputs": [],
   "source": [
    "empty_set.add(6)"
   ]
  },
  {
   "cell_type": "code",
   "execution_count": 34,
   "id": "b52e21c4-e564-432c-8285-9c73e177dacf",
   "metadata": {},
   "outputs": [
    {
     "data": {
      "text/plain": [
       "{6}"
      ]
     },
     "execution_count": 34,
     "metadata": {},
     "output_type": "execute_result"
    }
   ],
   "source": [
    "empty_set"
   ]
  },
  {
   "cell_type": "code",
   "execution_count": 36,
   "id": "d6f1447c-9a03-486c-b97c-c4538df8e1f3",
   "metadata": {},
   "outputs": [],
   "source": [
    "empty_set.add(4)"
   ]
  },
  {
   "cell_type": "code",
   "execution_count": 40,
   "id": "0235cd7c-520c-4973-8ea7-5c5af8eef84f",
   "metadata": {},
   "outputs": [
    {
     "data": {
      "text/plain": [
       "{4, 6}"
      ]
     },
     "execution_count": 40,
     "metadata": {},
     "output_type": "execute_result"
    }
   ],
   "source": [
    "empty_set"
   ]
  },
  {
   "cell_type": "code",
   "execution_count": 42,
   "id": "302de068-0e6b-470e-92f5-ddcba1a83282",
   "metadata": {},
   "outputs": [
    {
     "ename": "TypeError",
     "evalue": "'set' object does not support item assignment",
     "output_type": "error",
     "traceback": [
      "\u001b[1;31m---------------------------------------------------------------------------\u001b[0m",
      "\u001b[1;31mTypeError\u001b[0m                                 Traceback (most recent call last)",
      "Cell \u001b[1;32mIn[42], line 1\u001b[0m\n\u001b[1;32m----> 1\u001b[0m empty_set[\u001b[38;5;241m0\u001b[39m] \u001b[38;5;241m=\u001b[39m \u001b[38;5;241m3\u001b[39m\n",
      "\u001b[1;31mTypeError\u001b[0m: 'set' object does not support item assignment"
     ]
    }
   ],
   "source": [
    "empty_set[0] = 3"
   ]
  },
  {
   "cell_type": "code",
   "execution_count": 46,
   "id": "d3013684-9266-4b66-b983-ae5e08c93a31",
   "metadata": {},
   "outputs": [
    {
     "data": {
      "text/plain": [
       "4"
      ]
     },
     "execution_count": 46,
     "metadata": {},
     "output_type": "execute_result"
    }
   ],
   "source": [
    "empty_set.pop()\n",
    "#baştakiin sildi"
   ]
  },
  {
   "cell_type": "code",
   "execution_count": 48,
   "id": "b515a4cb-2974-42a2-8cc1-8d5440928697",
   "metadata": {},
   "outputs": [
    {
     "data": {
      "text/plain": [
       "{6}"
      ]
     },
     "execution_count": 48,
     "metadata": {},
     "output_type": "execute_result"
    }
   ],
   "source": [
    "empty_set"
   ]
  },
  {
   "cell_type": "code",
   "execution_count": null,
   "id": "ff0a5c0d-2de7-4f5c-a553-badfa26585c7",
   "metadata": {},
   "outputs": [],
   "source": []
  }
 ],
 "metadata": {
  "kernelspec": {
   "display_name": "Python 3 (ipykernel)",
   "language": "python",
   "name": "python3"
  },
  "language_info": {
   "codemirror_mode": {
    "name": "ipython",
    "version": 3
   },
   "file_extension": ".py",
   "mimetype": "text/x-python",
   "name": "python",
   "nbconvert_exporter": "python",
   "pygments_lexer": "ipython3",
   "version": "3.12.7"
  }
 },
 "nbformat": 4,
 "nbformat_minor": 5
}
