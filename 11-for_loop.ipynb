{
 "cells": [
  {
   "cell_type": "code",
   "execution_count": 7,
   "id": "4cec5a54-073e-42d1-bc76-c601fc05991d",
   "metadata": {},
   "outputs": [],
   "source": [
    "my_nums = [1,2,3,4,5,6,7,8,9,0]"
   ]
  },
  {
   "cell_type": "code",
   "execution_count": 11,
   "id": "fd64c115-0949-4cb1-9408-5b711dc4b6e2",
   "metadata": {},
   "outputs": [
    {
     "name": "stdout",
     "output_type": "stream",
     "text": [
      "1 is an odd number\n",
      "2\n",
      "is an even number\n",
      "3 is an odd number\n",
      "4\n",
      "is an even number\n",
      "5 is an odd number\n",
      "6\n",
      "is an even number\n",
      "7 is an odd number\n",
      "8\n",
      "is an even number\n",
      "9 is an odd number\n",
      "0\n",
      "is an even number\n"
     ]
    }
   ],
   "source": [
    "for num in my_nums:\n",
    "    if num % 2 == 0:\n",
    "        print(num)\n",
    "        print(\"is an even number\")\n",
    "    else:\n",
    "        print(num,\"is an odd number\")"
   ]
  },
  {
   "cell_type": "code",
   "execution_count": 15,
   "id": "cd4fb9e8-d23d-4f8b-8e3e-0ba4f4b3e05c",
   "metadata": {},
   "outputs": [],
   "source": [
    "my_dict = {\"key\":100,\"key2\":200,\"key3\":300}"
   ]
  },
  {
   "cell_type": "code",
   "execution_count": 23,
   "id": "4170342b-a28e-49b4-8dc7-839432a8cec9",
   "metadata": {},
   "outputs": [
    {
     "name": "stdout",
     "output_type": "stream",
     "text": [
      "key 's value is  100\n",
      "key2 's value is  200\n",
      "key3 's value is  300\n"
     ]
    }
   ],
   "source": [
    "for (key,value) in my_dict.items():\n",
    "    print(key,\"'s value is \",value)"
   ]
  },
  {
   "cell_type": "code",
   "execution_count": 35,
   "id": "6d00481f-de06-4932-9ec4-2367f5494359",
   "metadata": {},
   "outputs": [],
   "source": [
    "my_tuple = [{1,2},{3,4},[5,6]]"
   ]
  },
  {
   "cell_type": "code",
   "execution_count": 37,
   "id": "2e60bda0-19b5-4aa2-b589-6a3ab7c479c3",
   "metadata": {},
   "outputs": [
    {
     "name": "stdout",
     "output_type": "stream",
     "text": [
      "1  and  2  are values\n",
      "3  and  4  are values\n",
      "5  and  6  are values\n"
     ]
    }
   ],
   "source": [
    "for x,y in my_tuple:\n",
    "    print(x,\" and \",y,\" are values\")"
   ]
  },
  {
   "cell_type": "code",
   "execution_count": null,
   "id": "36843bad-fd97-4357-a59c-3ac76d1aeb24",
   "metadata": {},
   "outputs": [],
   "source": []
  }
 ],
 "metadata": {
  "kernelspec": {
   "display_name": "Python 3 (ipykernel)",
   "language": "python",
   "name": "python3"
  },
  "language_info": {
   "codemirror_mode": {
    "name": "ipython",
    "version": 3
   },
   "file_extension": ".py",
   "mimetype": "text/x-python",
   "name": "python",
   "nbconvert_exporter": "python",
   "pygments_lexer": "ipython3",
   "version": "3.12.7"
  }
 },
 "nbformat": 4,
 "nbformat_minor": 5
}
