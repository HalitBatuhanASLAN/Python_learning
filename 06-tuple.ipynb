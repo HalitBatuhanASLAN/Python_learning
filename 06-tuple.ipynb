{
 "cells": [
  {
   "cell_type": "code",
   "execution_count": 1,
   "id": "c32e1ed7-b8c5-4e3b-bb9a-d6ec897921da",
   "metadata": {},
   "outputs": [],
   "source": [
    "my_tuple = (1,2,3,\"a\",\"a\",1,5,2,1,\"c\")\n",
    "#bunlar birnevi sabit immutable listlerdir"
   ]
  },
  {
   "cell_type": "code",
   "execution_count": 3,
   "id": "5ea2c5d7-1ff0-4c84-9973-ab04c836e8ce",
   "metadata": {},
   "outputs": [
    {
     "data": {
      "text/plain": [
       "(1, 2, 3, 'a', 'a', 1, 5, 2, 1, 'c')"
      ]
     },
     "execution_count": 3,
     "metadata": {},
     "output_type": "execute_result"
    }
   ],
   "source": [
    "my_tuple"
   ]
  },
  {
   "cell_type": "code",
   "execution_count": 5,
   "id": "734295a5-1e32-47b3-8323-028cfd2ec0f5",
   "metadata": {},
   "outputs": [
    {
     "data": {
      "text/plain": [
       "2"
      ]
     },
     "execution_count": 5,
     "metadata": {},
     "output_type": "execute_result"
    }
   ],
   "source": [
    "my_tuple.count(\"a\")\n",
    "#kaç tane a olduğunu sayar"
   ]
  },
  {
   "cell_type": "code",
   "execution_count": 9,
   "id": "26befb31-a78f-4876-a292-2587dd82660f",
   "metadata": {},
   "outputs": [
    {
     "data": {
      "text/plain": [
       "1"
      ]
     },
     "execution_count": 9,
     "metadata": {},
     "output_type": "execute_result"
    }
   ],
   "source": [
    "my_tuple.index(2)\n",
    "#ilk bulduğu 2'nin indexini döndürü"
   ]
  },
  {
   "cell_type": "code",
   "execution_count": 11,
   "id": "563a97c2-6a47-4e20-a296-cb5ba8109c19",
   "metadata": {},
   "outputs": [
    {
     "data": {
      "text/plain": [
       "1"
      ]
     },
     "execution_count": 11,
     "metadata": {},
     "output_type": "execute_result"
    }
   ],
   "source": [
    "my_tuple[5]"
   ]
  },
  {
   "cell_type": "code",
   "execution_count": 13,
   "id": "23d24ef8-4d64-4983-ac8c-e921f29c213e",
   "metadata": {},
   "outputs": [
    {
     "ename": "TypeError",
     "evalue": "'tuple' object does not support item assignment",
     "output_type": "error",
     "traceback": [
      "\u001b[1;31m---------------------------------------------------------------------------\u001b[0m",
      "\u001b[1;31mTypeError\u001b[0m                                 Traceback (most recent call last)",
      "Cell \u001b[1;32mIn[13], line 1\u001b[0m\n\u001b[1;32m----> 1\u001b[0m my_tuple[\u001b[38;5;241m5\u001b[39m] \u001b[38;5;241m=\u001b[39m \u001b[38;5;241m5\u001b[39m\n",
      "\u001b[1;31mTypeError\u001b[0m: 'tuple' object does not support item assignment"
     ]
    }
   ],
   "source": [
    "my_tuple[5] = 5"
   ]
  },
  {
   "cell_type": "code",
   "execution_count": null,
   "id": "70e24651-46f1-4f33-999c-18efd555f26f",
   "metadata": {},
   "outputs": [],
   "source": []
  }
 ],
 "metadata": {
  "kernelspec": {
   "display_name": "Python 3 (ipykernel)",
   "language": "python",
   "name": "python3"
  },
  "language_info": {
   "codemirror_mode": {
    "name": "ipython",
    "version": 3
   },
   "file_extension": ".py",
   "mimetype": "text/x-python",
   "name": "python",
   "nbconvert_exporter": "python",
   "pygments_lexer": "ipython3",
   "version": "3.12.7"
  }
 },
 "nbformat": 4,
 "nbformat_minor": 5
}
