{
 "cells": [
  {
   "cell_type": "code",
   "execution_count": 9,
   "id": "8b1a5a2a-0ea1-4007-83d3-944d7409f943",
   "metadata": {},
   "outputs": [],
   "source": [
    "def func(new_func):\n",
    "    print(\"Starting of func\")\n",
    "    new_func()\n",
    "    print(\"End of func\")"
   ]
  },
  {
   "cell_type": "code",
   "execution_count": 11,
   "id": "e6407e18-c3f1-486d-a4bb-a43477e3c482",
   "metadata": {},
   "outputs": [],
   "source": [
    "def new_func():\n",
    "    print(\"new_func parts\")"
   ]
  },
  {
   "cell_type": "code",
   "execution_count": 13,
   "id": "60b4af83-d535-4d83-885f-5a79ce905c05",
   "metadata": {},
   "outputs": [
    {
     "name": "stdout",
     "output_type": "stream",
     "text": [
      "Starting of func\n",
      "new_func parts\n",
      "End of func\n"
     ]
    }
   ],
   "source": [
    "func(new_func)"
   ]
  },
  {
   "cell_type": "code",
   "execution_count": 15,
   "id": "874e8d44-b4cc-4d0d-bc00-67025131277f",
   "metadata": {},
   "outputs": [],
   "source": [
    "def function():\n",
    "    print(\"function part\")\n",
    "    def function_inner():\n",
    "        print(\"inner func\")\n",
    "    function_inner()\n",
    "    return(function_inner)"
   ]
  },
  {
   "cell_type": "code",
   "execution_count": 17,
   "id": "aa70afc4-755b-46cf-8639-7015e16bdda4",
   "metadata": {},
   "outputs": [
    {
     "name": "stdout",
     "output_type": "stream",
     "text": [
      "function part\n",
      "inner func\n"
     ]
    },
    {
     "data": {
      "text/plain": [
       "<function __main__.function.<locals>.function_inner()>"
      ]
     },
     "execution_count": 17,
     "metadata": {},
     "output_type": "execute_result"
    }
   ],
   "source": [
    "function()"
   ]
  },
  {
   "cell_type": "code",
   "execution_count": 19,
   "id": "21210a17-b1f4-460c-ba3b-855fedddbb54",
   "metadata": {},
   "outputs": [
    {
     "ename": "NameError",
     "evalue": "name 'function_inner' is not defined",
     "output_type": "error",
     "traceback": [
      "\u001b[1;31m---------------------------------------------------------------------------\u001b[0m",
      "\u001b[1;31mNameError\u001b[0m                                 Traceback (most recent call last)",
      "Cell \u001b[1;32mIn[19], line 1\u001b[0m\n\u001b[1;32m----> 1\u001b[0m function_inner()\n",
      "\u001b[1;31mNameError\u001b[0m: name 'function_inner' is not defined"
     ]
    }
   ],
   "source": [
    "function_inner()"
   ]
  },
  {
   "cell_type": "code",
   "execution_count": 21,
   "id": "520d7b37-3416-4f21-926c-ca864deb1166",
   "metadata": {},
   "outputs": [
    {
     "name": "stdout",
     "output_type": "stream",
     "text": [
      "function part\n",
      "inner func\n"
     ]
    }
   ],
   "source": [
    "retrun_func = function()"
   ]
  },
  {
   "cell_type": "code",
   "execution_count": 23,
   "id": "331e73eb-68a3-4b47-8481-b044a937fe51",
   "metadata": {},
   "outputs": [
    {
     "name": "stdout",
     "output_type": "stream",
     "text": [
      "inner func\n"
     ]
    }
   ],
   "source": [
    "retrun_func()"
   ]
  },
  {
   "cell_type": "code",
   "execution_count": 25,
   "id": "06108e42-c653-46c6-a148-15f326512c3c",
   "metadata": {},
   "outputs": [],
   "source": [
    "#decorator function"
   ]
  },
  {
   "cell_type": "code",
   "execution_count": 27,
   "id": "4787a857-322c-4314-8c8f-18036d7dca5e",
   "metadata": {},
   "outputs": [],
   "source": [
    "def decorator_func(function):\n",
    "    def wrapper_func():\n",
    "        print(\"wrapper beginnign\")\n",
    "        function()\n",
    "        print(\"wrapper ending\")\n",
    "    return(wrapper_func)"
   ]
  },
  {
   "cell_type": "code",
   "execution_count": 29,
   "id": "ce835a62-2829-40bb-a1c7-8085852b7c23",
   "metadata": {},
   "outputs": [],
   "source": [
    "def function():\n",
    "    print(1907)"
   ]
  },
  {
   "cell_type": "code",
   "execution_count": 31,
   "id": "2dd4b79c-2101-46b9-96ee-fa4f03d992db",
   "metadata": {},
   "outputs": [
    {
     "data": {
      "text/plain": [
       "<function __main__.decorator_func.<locals>.wrapper_func()>"
      ]
     },
     "execution_count": 31,
     "metadata": {},
     "output_type": "execute_result"
    }
   ],
   "source": [
    "decorator_func(function)"
   ]
  },
  {
   "cell_type": "code",
   "execution_count": 33,
   "id": "9bcb6537-ad6d-4178-9245-c6619cf8fc09",
   "metadata": {},
   "outputs": [],
   "source": [
    "new_func = decorator_func(function)"
   ]
  },
  {
   "cell_type": "code",
   "execution_count": 35,
   "id": "c13c0859-f36f-41bc-93e8-749544b166f0",
   "metadata": {},
   "outputs": [
    {
     "name": "stdout",
     "output_type": "stream",
     "text": [
      "wrapper beginnign\n",
      "1907\n",
      "wrapper ending\n"
     ]
    }
   ],
   "source": [
    "new_func()"
   ]
  },
  {
   "cell_type": "code",
   "execution_count": 37,
   "id": "b7d00588-8edd-42c7-82ce-6f1bc21b3d7f",
   "metadata": {},
   "outputs": [],
   "source": [
    "#now we decorate our function whenever we call it it will works as new_func\n",
    "@decorator_func\n",
    "def function():\n",
    "    print(1907)"
   ]
  },
  {
   "cell_type": "code",
   "execution_count": 39,
   "id": "4f2e7627-1de7-4f5e-b29d-da6b3e6775b6",
   "metadata": {},
   "outputs": [
    {
     "name": "stdout",
     "output_type": "stream",
     "text": [
      "wrapper beginnign\n",
      "1907\n",
      "wrapper ending\n"
     ]
    }
   ],
   "source": [
    "function()"
   ]
  },
  {
   "cell_type": "code",
   "execution_count": null,
   "id": "55976db8-c280-476a-80c4-c73cb5d17131",
   "metadata": {},
   "outputs": [],
   "source": []
  }
 ],
 "metadata": {
  "kernelspec": {
   "display_name": "Python 3 (ipykernel)",
   "language": "python",
   "name": "python3"
  },
  "language_info": {
   "codemirror_mode": {
    "name": "ipython",
    "version": 3
   },
   "file_extension": ".py",
   "mimetype": "text/x-python",
   "name": "python",
   "nbconvert_exporter": "python",
   "pygments_lexer": "ipython3",
   "version": "3.12.7"
  }
 },
 "nbformat": 4,
 "nbformat_minor": 5
}
