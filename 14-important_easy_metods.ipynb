{
 "cells": [
  {
   "cell_type": "code",
   "execution_count": null,
   "id": "77431c36-ae46-47dd-8c85-41c5a84e3c6b",
   "metadata": {},
   "outputs": [],
   "source": [
    "##range"
   ]
  },
  {
   "cell_type": "code",
   "execution_count": null,
   "id": "22108331-cc90-432a-ab1c-ade1ff5a9b76",
   "metadata": {},
   "outputs": [
    {
     "data": {
      "text/plain": [
       "range(5, 15, 3)"
      ]
     },
     "execution_count": 1,
     "metadata": {},
     "output_type": "execute_result"
    }
   ],
   "source": [
    "range(5,15,3)"
   ]
  },
  {
   "cell_type": "code",
   "execution_count": 3,
   "id": "fbcc5bde-1229-4e8a-8dba-95555ca1cc01",
   "metadata": {},
   "outputs": [
    {
     "name": "stdout",
     "output_type": "stream",
     "text": [
      "5\n",
      "8\n",
      "11\n",
      "14\n"
     ]
    }
   ],
   "source": [
    "for num in list(range(5,15,3)):\n",
    "    print(num)"
   ]
  },
  {
   "cell_type": "code",
   "execution_count": 7,
   "id": "c7817921-80e2-4dc3-9fa4-a48afb9ae41e",
   "metadata": {},
   "outputs": [
    {
     "name": "stdout",
     "output_type": "stream",
     "text": [
      "5\n",
      "6\n",
      "7\n",
      "8\n",
      "9\n"
     ]
    }
   ],
   "source": [
    "for num in list(range(5,10)):\n",
    "    print(num)"
   ]
  },
  {
   "cell_type": "code",
   "execution_count": 9,
   "id": "b90bca15-0ac4-4ba2-9557-ebfe71c79126",
   "metadata": {},
   "outputs": [
    {
     "name": "stdout",
     "output_type": "stream",
     "text": [
      "0\n",
      "1\n",
      "2\n",
      "3\n",
      "4\n",
      "5\n",
      "6\n",
      "7\n",
      "8\n",
      "9\n"
     ]
    }
   ],
   "source": [
    "for num in list(range(10)):\n",
    "    print(num)"
   ]
  },
  {
   "cell_type": "code",
   "execution_count": null,
   "id": "1cb6b027-605c-4336-a68f-0a0c63685899",
   "metadata": {},
   "outputs": [],
   "source": [
    "##enumerate"
   ]
  },
  {
   "cell_type": "code",
   "execution_count": 12,
   "id": "8e279d89-a2c2-45bd-bb25-fd827a8c0a82",
   "metadata": {},
   "outputs": [
    {
     "name": "stdout",
     "output_type": "stream",
     "text": [
      "(0, 5)\n",
      "(1, 6)\n",
      "(2, 7)\n",
      "(3, 8)\n",
      "(4, 9)\n",
      "(5, 10)\n",
      "(6, 11)\n",
      "(7, 12)\n",
      "(8, 13)\n",
      "(9, 14)\n"
     ]
    }
   ],
   "source": [
    "for item in enumerate(list(range(5,15))):\n",
    "    print(item)"
   ]
  },
  {
   "cell_type": "code",
   "execution_count": 14,
   "id": "4746fa14-cc4e-4e63-a549-d5c406dd78d6",
   "metadata": {},
   "outputs": [
    {
     "name": "stdout",
     "output_type": "stream",
     "text": [
      "0    9\n",
      "1    8\n",
      "2    7\n",
      "3    6\n",
      "4    5\n",
      "5    4\n"
     ]
    }
   ],
   "source": [
    "my_list = [9,8,7,6,5,4]\n",
    "for (index,item) in enumerate(my_list):\n",
    "    print(index,\"  \",item)"
   ]
  },
  {
   "cell_type": "code",
   "execution_count": 16,
   "id": "9fe86504-da5f-463a-9f0b-1a67dca79e18",
   "metadata": {},
   "outputs": [],
   "source": [
    "##random"
   ]
  },
  {
   "cell_type": "code",
   "execution_count": 18,
   "id": "9e612fa3-1854-4304-864f-6ee2648552b9",
   "metadata": {},
   "outputs": [],
   "source": [
    "from random import randint"
   ]
  },
  {
   "cell_type": "code",
   "execution_count": 20,
   "id": "9b6add03-dab2-453a-a1c1-2c77e6752807",
   "metadata": {},
   "outputs": [
    {
     "data": {
      "text/plain": [
       "0"
      ]
     },
     "execution_count": 20,
     "metadata": {},
     "output_type": "execute_result"
    }
   ],
   "source": [
    "randint(0,10)"
   ]
  },
  {
   "cell_type": "code",
   "execution_count": 22,
   "id": "f7c636a4-d64b-42a7-9d8d-2f575e7413b5",
   "metadata": {},
   "outputs": [
    {
     "data": {
      "text/plain": [
       "6"
      ]
     },
     "execution_count": 22,
     "metadata": {},
     "output_type": "execute_result"
    }
   ],
   "source": [
    "randint(0,10)"
   ]
  },
  {
   "cell_type": "code",
   "execution_count": 24,
   "id": "af0fa83e-1aa5-42c5-bb6d-d1f9d359ebc2",
   "metadata": {},
   "outputs": [],
   "source": [
    "from random import shuffle"
   ]
  },
  {
   "cell_type": "code",
   "execution_count": 26,
   "id": "52594db5-3af6-435d-b881-e5691996b3a7",
   "metadata": {},
   "outputs": [],
   "source": [
    "my_list = list(range(0,20))"
   ]
  },
  {
   "cell_type": "code",
   "execution_count": 28,
   "id": "e2a5b94d-f86b-4e73-a5f1-33531dfe73b3",
   "metadata": {},
   "outputs": [],
   "source": [
    "#karıştırır\n",
    "shuffle(my_list)"
   ]
  },
  {
   "cell_type": "code",
   "execution_count": 32,
   "id": "3613eb5d-6fb8-4fae-9592-8ccb60888f77",
   "metadata": {},
   "outputs": [
    {
     "name": "stdout",
     "output_type": "stream",
     "text": [
      "7\n",
      "9\n",
      "1\n",
      "2\n",
      "5\n",
      "14\n",
      "3\n",
      "16\n",
      "13\n",
      "18\n",
      "10\n",
      "17\n",
      "8\n",
      "11\n",
      "6\n",
      "12\n",
      "19\n",
      "15\n",
      "0\n",
      "4\n"
     ]
    }
   ],
   "source": [
    "for num in my_list:\n",
    "    print(num)"
   ]
  },
  {
   "cell_type": "code",
   "execution_count": 34,
   "id": "f8feb931-6ed4-4b7d-9fc3-f7c534237507",
   "metadata": {},
   "outputs": [],
   "source": [
    "#zip"
   ]
  },
  {
   "cell_type": "code",
   "execution_count": 36,
   "id": "062e5a05-4541-49a6-b747-e76e2328f082",
   "metadata": {},
   "outputs": [],
   "source": [
    "my_days = [\"monday\",\"tuesday\",\"wednesday\"]"
   ]
  },
  {
   "cell_type": "code",
   "execution_count": 38,
   "id": "82293ac5-e0f6-49e4-adc2-29c48a45052e",
   "metadata": {},
   "outputs": [],
   "source": [
    "sports = [\"basketbol\",\"futbol\",\"swimming\"]"
   ]
  },
  {
   "cell_type": "code",
   "execution_count": 40,
   "id": "5a31d5a6-4c6b-4af6-b52c-b0c931636d1b",
   "metadata": {},
   "outputs": [],
   "source": [
    "time_in_min = [45,30,20]"
   ]
  },
  {
   "cell_type": "code",
   "execution_count": 42,
   "id": "f9153bf8-3ff5-4ff0-9afb-cfc3eb98e44d",
   "metadata": {},
   "outputs": [],
   "source": [
    "new_list = list(zip(my_days,sports,time_in_min))"
   ]
  },
  {
   "cell_type": "code",
   "execution_count": 44,
   "id": "77b2007b-d833-4a4a-a069-2326a4651a4f",
   "metadata": {},
   "outputs": [
    {
     "data": {
      "text/plain": [
       "[('monday', 'basketbol', 45),\n",
       " ('tuesday', 'futbol', 30),\n",
       " ('wednesday', 'swimming', 20)]"
      ]
     },
     "execution_count": 44,
     "metadata": {},
     "output_type": "execute_result"
    }
   ],
   "source": [
    "new_list"
   ]
  },
  {
   "cell_type": "code",
   "execution_count": 46,
   "id": "3e02e1b4-a006-4830-bf8a-66a6d8e133df",
   "metadata": {},
   "outputs": [],
   "source": [
    "#advenced list"
   ]
  },
  {
   "cell_type": "code",
   "execution_count": 48,
   "id": "97ed2349-034a-495b-a140-ee3cc8caa08c",
   "metadata": {},
   "outputs": [],
   "source": [
    "#we can add elemenst of a list into another list by that way too\n",
    "cube_list = [number**3 for number in list(range(0,5))]"
   ]
  },
  {
   "cell_type": "code",
   "execution_count": 50,
   "id": "fc9b1cf8-3c8b-4911-a8a5-9a5ea2f90718",
   "metadata": {},
   "outputs": [
    {
     "data": {
      "text/plain": [
       "[0, 1, 8, 27, 64]"
      ]
     },
     "execution_count": 50,
     "metadata": {},
     "output_type": "execute_result"
    }
   ],
   "source": [
    "cube_list"
   ]
  },
  {
   "cell_type": "code",
   "execution_count": null,
   "id": "4d27baa2-df50-4953-b358-872adf0bde5a",
   "metadata": {},
   "outputs": [],
   "source": []
  }
 ],
 "metadata": {
  "kernelspec": {
   "display_name": "Python 3 (ipykernel)",
   "language": "python",
   "name": "python3"
  },
  "language_info": {
   "codemirror_mode": {
    "name": "ipython",
    "version": 3
   },
   "file_extension": ".py",
   "mimetype": "text/x-python",
   "name": "python",
   "nbconvert_exporter": "python",
   "pygments_lexer": "ipython3",
   "version": "3.12.7"
  }
 },
 "nbformat": 4,
 "nbformat_minor": 5
}
