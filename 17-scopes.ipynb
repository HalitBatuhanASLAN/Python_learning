{
 "cells": [
  {
   "cell_type": "markdown",
   "id": "4e808a11-a4ef-4766-8367-c9701c7f0686",
   "metadata": {},
   "source": [
    "# LEGB\n",
    "# Local\n",
    "# Enclosing\n",
    "# GLobal\n",
    "# Built-in"
   ]
  },
  {
   "cell_type": "code",
   "execution_count": 49,
   "id": "b50800eb-ad71-444a-a91c-b7c03f7d1ab6",
   "metadata": {},
   "outputs": [],
   "source": [
    "#global one\n",
    "my_name = \"HBA\"\n",
    "\n",
    "def print_name():\n",
    "    #print(my_name)\n",
    "\n",
    "    #enclosing one\n",
    "    my_name = \"ASLAN\"\n",
    "    print(my_name)\n",
    "\n",
    "    def print_inner():\n",
    "        #print(my_name)\n",
    "\n",
    "        #local one\n",
    "        my_name = \"Batuhan\"\n",
    "        print(my_name)\n",
    "    print_inner()"
   ]
  },
  {
   "cell_type": "code",
   "execution_count": 51,
   "id": "f70f2eca-a86b-4b8f-91ef-033a20705268",
   "metadata": {},
   "outputs": [
    {
     "name": "stdout",
     "output_type": "stream",
     "text": [
      "ASLAN\n",
      "Batuhan\n"
     ]
    }
   ],
   "source": [
    "print_name()"
   ]
  },
  {
   "cell_type": "code",
   "execution_count": 53,
   "id": "157f018c-4ca3-42ba-a4ea-7a7d512e9589",
   "metadata": {},
   "outputs": [
    {
     "data": {
      "text/plain": [
       "'HBA'"
      ]
     },
     "execution_count": 53,
     "metadata": {},
     "output_type": "execute_result"
    }
   ],
   "source": [
    "my_name"
   ]
  },
  {
   "cell_type": "code",
   "execution_count": 62,
   "id": "df418369-d1d6-4ce7-bb90-caf7661add84",
   "metadata": {},
   "outputs": [],
   "source": [
    "#global one\n",
    "my_name = \"HBA\"\n",
    "\n",
    "def print_name2():\n",
    "    #enclosing one\n",
    "    #my_name = \"ASLAN\"\n",
    "    print(my_name)\n",
    "\n",
    "    def print_inner():\n",
    "        #local one\n",
    "        #my_name = \"Batuhan\"\n",
    "        print(my_name)\n",
    "    print_inner()"
   ]
  },
  {
   "cell_type": "code",
   "execution_count": 64,
   "id": "9633d7aa-473a-435e-a1dc-de96a4e8a3db",
   "metadata": {},
   "outputs": [
    {
     "data": {
      "text/plain": [
       "'HBA'"
      ]
     },
     "execution_count": 64,
     "metadata": {},
     "output_type": "execute_result"
    }
   ],
   "source": [
    "my_name"
   ]
  },
  {
   "cell_type": "code",
   "execution_count": 66,
   "id": "2ad16ba7-a55c-4f22-8f8a-96abf3debda0",
   "metadata": {},
   "outputs": [
    {
     "name": "stdout",
     "output_type": "stream",
     "text": [
      "HBA\n",
      "HBA\n"
     ]
    }
   ],
   "source": [
    "print_name2()"
   ]
  },
  {
   "cell_type": "code",
   "execution_count": 68,
   "id": "86ec9964-71ea-4619-80de-6129895fe0e1",
   "metadata": {},
   "outputs": [],
   "source": [
    "#we can change globals by following 2 ways"
   ]
  },
  {
   "cell_type": "code",
   "execution_count": 92,
   "id": "3561ed52-b13f-4ac1-a316-8d8a6086d7f8",
   "metadata": {},
   "outputs": [],
   "source": [
    "age = 20\n",
    "\n",
    "def my_age(age):\n",
    "    print(age)\n",
    "    age = 25\n",
    "    return age"
   ]
  },
  {
   "cell_type": "code",
   "execution_count": 94,
   "id": "1a18ad0e-718e-4d7d-96f3-43acff5cf8df",
   "metadata": {},
   "outputs": [
    {
     "data": {
      "text/plain": [
       "20"
      ]
     },
     "execution_count": 94,
     "metadata": {},
     "output_type": "execute_result"
    }
   ],
   "source": [
    "age"
   ]
  },
  {
   "cell_type": "code",
   "execution_count": 96,
   "id": "f49ff560-bb76-479e-ae9a-8f2b480ed2a0",
   "metadata": {},
   "outputs": [
    {
     "name": "stdout",
     "output_type": "stream",
     "text": [
      "15\n"
     ]
    },
    {
     "data": {
      "text/plain": [
       "25"
      ]
     },
     "execution_count": 96,
     "metadata": {},
     "output_type": "execute_result"
    }
   ],
   "source": [
    "my_age(15)"
   ]
  },
  {
   "cell_type": "code",
   "execution_count": 98,
   "id": "f0106ad3-15a9-44c4-b8ad-c60ea35b6045",
   "metadata": {},
   "outputs": [
    {
     "data": {
      "text/plain": [
       "20"
      ]
     },
     "execution_count": 98,
     "metadata": {},
     "output_type": "execute_result"
    }
   ],
   "source": [
    "age"
   ]
  },
  {
   "cell_type": "code",
   "execution_count": 100,
   "id": "dc08726f-dc40-4bcc-9297-c7828ddb0760",
   "metadata": {},
   "outputs": [
    {
     "name": "stdout",
     "output_type": "stream",
     "text": [
      "20\n"
     ]
    }
   ],
   "source": [
    "#by that way we change age value\n",
    "age = my_age(age)"
   ]
  },
  {
   "cell_type": "code",
   "execution_count": 102,
   "id": "c2610112-feb8-4494-b700-5c2f4e5ec4f6",
   "metadata": {},
   "outputs": [
    {
     "data": {
      "text/plain": [
       "25"
      ]
     },
     "execution_count": 102,
     "metadata": {},
     "output_type": "execute_result"
    }
   ],
   "source": [
    "age"
   ]
  },
  {
   "cell_type": "code",
   "execution_count": 104,
   "id": "3748f57b-fa08-4a4e-acc8-8ce1b78d6f70",
   "metadata": {},
   "outputs": [],
   "source": [
    "#another way to changing is"
   ]
  },
  {
   "cell_type": "code",
   "execution_count": 110,
   "id": "f96c7a7b-e6a3-44c9-8254-2dc480524fcd",
   "metadata": {},
   "outputs": [],
   "source": [
    "x = 10\n",
    "\n",
    "def foo():\n",
    "    global x\n",
    "    x = 15\n",
    "    return x"
   ]
  },
  {
   "cell_type": "code",
   "execution_count": 112,
   "id": "ab87eae8-f9bf-4588-8b61-badf265960e8",
   "metadata": {},
   "outputs": [
    {
     "data": {
      "text/plain": [
       "10"
      ]
     },
     "execution_count": 112,
     "metadata": {},
     "output_type": "execute_result"
    }
   ],
   "source": [
    "x"
   ]
  },
  {
   "cell_type": "code",
   "execution_count": 114,
   "id": "a7b30899-336f-42fe-8f5f-b98829dfb64e",
   "metadata": {},
   "outputs": [],
   "source": [
    "x = foo()"
   ]
  },
  {
   "cell_type": "code",
   "execution_count": 116,
   "id": "f15acadc-0eac-4b4e-8d53-0a1a7a5dfffc",
   "metadata": {},
   "outputs": [
    {
     "data": {
      "text/plain": [
       "15"
      ]
     },
     "execution_count": 116,
     "metadata": {},
     "output_type": "execute_result"
    }
   ],
   "source": [
    "x"
   ]
  },
  {
   "cell_type": "code",
   "execution_count": null,
   "id": "6c159526-14c0-4474-9a6d-27ab6e7d61e3",
   "metadata": {},
   "outputs": [],
   "source": []
  }
 ],
 "metadata": {
  "kernelspec": {
   "display_name": "Python 3 (ipykernel)",
   "language": "python",
   "name": "python3"
  },
  "language_info": {
   "codemirror_mode": {
    "name": "ipython",
    "version": 3
   },
   "file_extension": ".py",
   "mimetype": "text/x-python",
   "name": "python",
   "nbconvert_exporter": "python",
   "pygments_lexer": "ipython3",
   "version": "3.12.7"
  }
 },
 "nbformat": 4,
 "nbformat_minor": 5
}
