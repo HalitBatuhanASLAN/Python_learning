{
 "cells": [
  {
   "cell_type": "code",
   "execution_count": 9,
   "id": "ab86610e-fa12-4152-b56f-4ea8cdd2113c",
   "metadata": {},
   "outputs": [],
   "source": [
    "#we can define the variable type by that way\n",
    "number : int = 10\n",
    "name : str = \"HBA\""
   ]
  },
  {
   "cell_type": "code",
   "execution_count": 11,
   "id": "cb96db4f-53c4-4c52-8d51-bcd15c954045",
   "metadata": {},
   "outputs": [
    {
     "data": {
      "text/plain": [
       "str"
      ]
     },
     "execution_count": 11,
     "metadata": {},
     "output_type": "execute_result"
    }
   ],
   "source": [
    "type(name)"
   ]
  },
  {
   "cell_type": "code",
   "execution_count": 13,
   "id": "3ce0e7eb-4022-4465-96a7-c84739e9890c",
   "metadata": {},
   "outputs": [
    {
     "data": {
      "text/plain": [
       "str"
      ]
     },
     "execution_count": 13,
     "metadata": {},
     "output_type": "execute_result"
    }
   ],
   "source": [
    "number = \"abc\"\n",
    "type(number)"
   ]
  },
  {
   "cell_type": "code",
   "execution_count": 19,
   "id": "ac1ec9bf-34b6-4cf2-9289-bc92a0ed554f",
   "metadata": {},
   "outputs": [
    {
     "name": "stdout",
     "output_type": "stream",
     "text": [
      "25.5\n"
     ]
    },
    {
     "data": {
      "text/plain": [
       "function"
      ]
     },
     "execution_count": 19,
     "metadata": {},
     "output_type": "execute_result"
    }
   ],
   "source": [
    "def summation(num1:float,num2:float) -> float:\n",
    "    return num1 + num2\n",
    "print(summation(10,15.5))\n",
    "type(summation)"
   ]
  },
  {
   "cell_type": "code",
   "execution_count": 37,
   "id": "bf934416-bffd-4086-99d5-d8ab70f85307",
   "metadata": {},
   "outputs": [],
   "source": [
    "# y pipe sign it says or and by isinstance it controls if type is equal\n",
    "def variable_checking(parameter : int | str) -> bool:\n",
    "    if isinstance(parameter,int):\n",
    "        print(f\"It is type of integer {parameter}\")\n",
    "        return True\n",
    "    elif isinstance(parameter,str):\n",
    "        print(f\"It is type of string {parameter}\")\n",
    "        return True\n",
    "    else:\n",
    "        print(f\"Type is different {parameter}\")\n",
    "        return False"
   ]
  },
  {
   "cell_type": "code",
   "execution_count": 39,
   "id": "2f959240-e2df-4011-aa55-59bae38b9e2f",
   "metadata": {},
   "outputs": [
    {
     "name": "stdout",
     "output_type": "stream",
     "text": [
      "It is type of integer 10\n",
      "True\n"
     ]
    }
   ],
   "source": [
    "variable_cont = variable_checking(10)\n",
    "print(variable_cont)"
   ]
  },
  {
   "cell_type": "code",
   "execution_count": 41,
   "id": "ea22418e-b4b8-48d2-999f-6de3ea08a70f",
   "metadata": {},
   "outputs": [
    {
     "name": "stdout",
     "output_type": "stream",
     "text": [
      "It is type of string HBA\n",
      "True\n"
     ]
    }
   ],
   "source": [
    "variable2_cont = variable_checking(\"HBA\")\n",
    "print(variable2_cont)"
   ]
  },
  {
   "cell_type": "code",
   "execution_count": 43,
   "id": "42fe8c33-d428-4c4a-a655-1ed1f738c71b",
   "metadata": {},
   "outputs": [
    {
     "name": "stdout",
     "output_type": "stream",
     "text": [
      "Type is different 12.5\n",
      "False\n"
     ]
    }
   ],
   "source": [
    "variable3_cont = variable_checking(12.5)\n",
    "print(variable3_cont)"
   ]
  },
  {
   "cell_type": "code",
   "execution_count": null,
   "id": "2e9abdca-5bba-4f65-b00a-4fb6d28685fb",
   "metadata": {},
   "outputs": [],
   "source": []
  }
 ],
 "metadata": {
  "kernelspec": {
   "display_name": "Python 3 (ipykernel)",
   "language": "python",
   "name": "python3"
  },
  "language_info": {
   "codemirror_mode": {
    "name": "ipython",
    "version": 3
   },
   "file_extension": ".py",
   "mimetype": "text/x-python",
   "name": "python",
   "nbconvert_exporter": "python",
   "pygments_lexer": "ipython3",
   "version": "3.12.7"
  }
 },
 "nbformat": 4,
 "nbformat_minor": 5
}
